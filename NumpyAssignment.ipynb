{
 "cells": [
  {
   "cell_type": "code",
   "execution_count": 1,
   "id": "a6051759-817a-4131-ba00-f3d294b27003",
   "metadata": {},
   "outputs": [
    {
     "name": "stdout",
     "output_type": "stream",
     "text": [
      "[0 1 2 3 4 5]\n",
      "Data type: int64\n"
     ]
    }
   ],
   "source": [
    "#1. Create a NumPy array 'arr' of integers from 0 to 5 and print its data type.\n",
    "\n",
    "import numpy as np\n",
    "\n",
    "arr = np.arange(0, 6)\n",
    "print(arr)\n",
    "print(\"Data type:\", arr.dtype)"
   ]
  },
  {
   "cell_type": "code",
   "execution_count": 2,
   "id": "4f62ede9-3223-45b4-87a4-87c5e3821840",
   "metadata": {},
   "outputs": [
    {
     "name": "stdout",
     "output_type": "stream",
     "text": [
      "Is float64: True\n"
     ]
    }
   ],
   "source": [
    "# 2. Given a NumPy array 'arr', check if its data type is float64.\n",
    "\n",
    "arr = np.array([1.5, 2.6, 3.7])\n",
    "is_float64 = arr.dtype == np.float64\n",
    "print(\"Is float64:\", is_float64)"
   ]
  },
  {
   "cell_type": "code",
   "execution_count": 3,
   "id": "cc04fe6b-7e8b-4b7d-bd04-38081990b0f0",
   "metadata": {},
   "outputs": [
    {
     "name": "stdout",
     "output_type": "stream",
     "text": [
      "[1.+2.j 3.+4.j 5.+6.j]\n",
      "Data type: complex128\n"
     ]
    }
   ],
   "source": [
    "# 3. Create a NumPy array 'arr' with a data type of complex128 containing three complex numbers.\n",
    "\n",
    "arr = np.array([1+2j, 3+4j, 5+6j], dtype=np.complex128)\n",
    "print(arr)\n",
    "print(\"Data type:\", arr.dtype)"
   ]
  },
  {
   "cell_type": "code",
   "execution_count": 4,
   "id": "6d90a0e9-5487-4eba-af7c-1589f57713fc",
   "metadata": {},
   "outputs": [
    {
     "name": "stdout",
     "output_type": "stream",
     "text": [
      "[1. 2. 3. 4. 5.]\n",
      "Data type: float32\n"
     ]
    }
   ],
   "source": [
    "#4. Convert an existing NumPy array 'arr' of integers to float32 data type.\n",
    " \n",
    " \n",
    "arr = np.array([1, 2, 3, 4, 5])\n",
    "arr_float32 = arr.astype(np.float32)\n",
    "print(arr_float32)\n",
    "print(\"Data type:\", arr_float32.dtype)"
   ]
  },
  {
   "cell_type": "code",
   "execution_count": 5,
   "id": "a20cf386-8aff-4829-8fa4-99994cda66bb",
   "metadata": {},
   "outputs": [
    {
     "name": "stdout",
     "output_type": "stream",
     "text": [
      "[1.5 2.6 3.7]\n",
      "Data type: float32\n"
     ]
    }
   ],
   "source": [
    "#5. Given a NumPy array 'arr' with float64 data type, convert it to float32 to reduce decimal precision.\n",
    " \n",
    " \n",
    "arr = np.array([1.5, 2.6, 3.7], dtype=np.float64)\n",
    "arr_float32 = arr.astype(np.float32)\n",
    "print(arr_float32)\n",
    "print(\"Data type:\", arr_float32.dtype)\n"
   ]
  },
  {
   "cell_type": "code",
   "execution_count": 6,
   "id": "fc4eb254-88db-4843-959d-f6304584658e",
   "metadata": {},
   "outputs": [
    {
     "name": "stdout",
     "output_type": "stream",
     "text": [
      "((3,), 3, dtype('float64'))\n"
     ]
    }
   ],
   "source": [
    "#6. Write a function array_attributes that takes a NumPy array as input and returns its shape, size, and data type.\n",
    " \n",
    " \n",
    "def array_attributes(arr):\n",
    "    return arr.shape, arr.size, arr.dtype\n",
    "\n",
    "arr = np.array([1.5, 2.6, 3.7])\n",
    "print(array_attributes(arr))"
   ]
  },
  {
   "cell_type": "code",
   "execution_count": 7,
   "id": "096e2637-d4f2-423e-8481-a9e84d05d0e3",
   "metadata": {},
   "outputs": [
    {
     "name": "stdout",
     "output_type": "stream",
     "text": [
      "2\n"
     ]
    }
   ],
   "source": [
    "#7. Create a function array_dimension that takes a NumPy array as input and returns its dimensionality.\n",
    " \n",
    " \n",
    "def array_dimension(arr):\n",
    "    return arr.ndim\n",
    "\n",
    "arr = np.array([[1.5, 2.6, 3.7], [4.5, 5.6, 6.7]])\n",
    "print(array_dimension(arr))"
   ]
  },
  {
   "cell_type": "code",
   "execution_count": 8,
   "id": "afb22866-6e03-4cfd-b1b6-a97066bd3178",
   "metadata": {},
   "outputs": [
    {
     "name": "stdout",
     "output_type": "stream",
     "text": [
      "(8, 24)\n"
     ]
    }
   ],
   "source": [
    "#8. Design a function item_size_info that takes a NumPy array as input and returns the item size and the total size in bytes.\n",
    " \n",
    " \n",
    "def item_size_info(arr):\n",
    "    return arr.itemsize, arr.nbytes\n",
    "\n",
    "arr = np.array([1.5, 2.6, 3.7])\n",
    "print(item_size_info(arr))"
   ]
  },
  {
   "cell_type": "code",
   "execution_count": 9,
   "id": "f144baf5-9a7f-4990-bfe6-9fdee566281d",
   "metadata": {},
   "outputs": [
    {
     "name": "stdout",
     "output_type": "stream",
     "text": [
      "(24, 8)\n"
     ]
    }
   ],
   "source": [
    "#9. Create a function array_strides that takes a NumPy array as input and returns the strides of the array.\n",
    " \n",
    " \n",
    "def array_strides(arr):\n",
    "    return arr.strides\n",
    "\n",
    "arr = np.array([[1.5, 2.6, 3.7], [4.5, 5.6, 6.7]])\n",
    "print(array_strides(arr))"
   ]
  },
  {
   "cell_type": "code",
   "execution_count": 10,
   "id": "7efb9f62-594c-474b-b743-b08e2224518f",
   "metadata": {},
   "outputs": [
    {
     "name": "stdout",
     "output_type": "stream",
     "text": [
      "((2, 3), (24, 8))\n"
     ]
    }
   ],
   "source": [
    "#10. Design a function shape_stride_relationship that takes a NumPy array as input and returns the shape and strides of the array.\n",
    " \n",
    " \n",
    "def shape_stride_relationship(arr):\n",
    "    return arr.shape, arr.strides\n",
    "\n",
    "arr = np.array([[1.5, 2.6, 3.7], [4.5, 5.6, 6.7]])\n",
    "print(shape_stride_relationship(arr))"
   ]
  },
  {
   "cell_type": "code",
   "execution_count": 11,
   "id": "c8e4f306-3bae-460a-a696-51ad9991b04f",
   "metadata": {},
   "outputs": [
    {
     "name": "stdout",
     "output_type": "stream",
     "text": [
      "[0. 0. 0. 0. 0.]\n"
     ]
    }
   ],
   "source": [
    "#11. Create a function create_zeros_array that takes an integer n as input and returns a NumPy array of zeros with n elements.\n",
    " \n",
    " \n",
    "def create_zeros_array(n):\n",
    "    return np.zeros(n)\n",
    "\n",
    "print(create_zeros_array(5))"
   ]
  },
  {
   "cell_type": "code",
   "execution_count": 12,
   "id": "024562d9-0e1e-458f-a37e-7821a589c82d",
   "metadata": {},
   "outputs": [
    {
     "name": "stdout",
     "output_type": "stream",
     "text": [
      "[[1. 1. 1. 1.]\n",
      " [1. 1. 1. 1.]\n",
      " [1. 1. 1. 1.]]\n"
     ]
    }
   ],
   "source": [
    "#12. Write a function create_ones_matrix that takes integers rows and cols as inputs and generates a 2D NumPy array filled with ones of size rows x cols.\n",
    " \n",
    " \n",
    "import numpy as np\n",
    "\n",
    "def create_ones_matrix(rows, cols):\n",
    "    return np.ones((rows, cols))\n",
    "\n",
    "print(create_ones_matrix(3, 4))"
   ]
  },
  {
   "cell_type": "code",
   "execution_count": 13,
   "id": "93175ab0-2283-4f50-a4de-841ea278fb66",
   "metadata": {},
   "outputs": [
    {
     "name": "stdout",
     "output_type": "stream",
     "text": [
      "[1 3 5 7 9]\n"
     ]
    }
   ],
   "source": [
    "#13. Write a function generate_range_array that takes three integers start, stop, and step as arguments and creates a NumPy array with a range starting from start, ending at stop (exclusive), and with the specified step.\n",
    " \n",
    " \n",
    "def generate_range_array(start, stop, step):\n",
    "    return np.arange(start, stop, step)\n",
    "\n",
    "print(generate_range_array(1, 10, 2))"
   ]
  },
  {
   "cell_type": "code",
   "execution_count": 14,
   "id": "8073903f-b9f7-4496-b541-0a69fd9b7993",
   "metadata": {},
   "outputs": [
    {
     "name": "stdout",
     "output_type": "stream",
     "text": [
      "[0.   0.25 0.5  0.75 1.  ]\n"
     ]
    }
   ],
   "source": [
    "#14. Design a function generate_linear_space that takes two floats start, stop, and an integer num as arguments and generates a NumPy array with num equally spaced values between start and stop (inclusive).\n",
    " \n",
    " \n",
    "def generate_linear_space(start, stop, num):\n",
    "    return np.linspace(start, stop, num)\n",
    "\n",
    "print(generate_linear_space(0, 1, 5))"
   ]
  },
  {
   "cell_type": "code",
   "execution_count": 15,
   "id": "7f1dad70-65b1-4ee0-a345-a1b1d4d89ed4",
   "metadata": {},
   "outputs": [
    {
     "name": "stdout",
     "output_type": "stream",
     "text": [
      "[[1. 0. 0. 0.]\n",
      " [0. 1. 0. 0.]\n",
      " [0. 0. 1. 0.]\n",
      " [0. 0. 0. 1.]]\n"
     ]
    }
   ],
   "source": [
    "#15. Create a function create_identity_matrix that takes an integer n as input and generates a square identity matrix of size n x n using numpy.eye.\n",
    " \n",
    " \n",
    "def create_identity_matrix(n):\n",
    "    return np.eye(n)\n",
    "\n",
    "print(create_identity_matrix(4))"
   ]
  },
  {
   "cell_type": "code",
   "execution_count": 16,
   "id": "bcffaf51-03b2-48b3-8d07-b0840d63b1c0",
   "metadata": {},
   "outputs": [
    {
     "name": "stdout",
     "output_type": "stream",
     "text": [
      "[1 2 3 4 5]\n"
     ]
    }
   ],
   "source": [
    "#16. Write a function that takes a  list and converts it into a NumPy array.\n",
    " \n",
    " \n",
    "def list_to_numpy_array(lst):\n",
    "    return np.array(lst)\n",
    "\n",
    "print(list_to_numpy_array([1, 2, 3, 4, 5]))"
   ]
  },
  {
   "cell_type": "code",
   "execution_count": 18,
   "id": "4d381b1f-72d7-458e-ad4f-ea17736b4e84",
   "metadata": {},
   "outputs": [
    {
     "name": "stdout",
     "output_type": "stream",
     "text": [
      "Original Array: [1 2 3 4 5]\n",
      "View Array: [1 2 3 4 5]\n",
      "Original Array after modification: [10  2  3  4  5]\n",
      "View Array after modification: [10  2  3  4  5]\n"
     ]
    }
   ],
   "source": [
    "#17. Create a NumPy array and demonstrate the use of `numpy.view` to create a new array object with the\n",
    "#same data.\n",
    "\n",
    "import numpy as np\n",
    "\n",
    "# Create a NumPy array\n",
    "original_array = np.array([1, 2, 3, 4, 5])\n",
    "\n",
    "# Use numpy.view to create a new array object with the same data\n",
    "view_array = original_array.view()\n",
    "\n",
    "# Display the original and the view arrays\n",
    "print(\"Original Array:\", original_array)\n",
    "print(\"View Array:\", view_array)\n",
    "\n",
    "# Modify the view array\n",
    "view_array[0] = 10\n",
    "\n",
    "# Display the arrays after modification to show that the data is shared\n",
    "print(\"Original Array after modification:\", original_array)\n",
    "print(\"View Array after modification:\", view_array)"
   ]
  },
  {
   "cell_type": "code",
   "execution_count": 19,
   "id": "2e3b691b-ff75-411e-b05f-45d693943be5",
   "metadata": {},
   "outputs": [
    {
     "name": "stdout",
     "output_type": "stream",
     "text": [
      "[[1 2]\n",
      " [3 4]\n",
      " [5 6]\n",
      " [7 8]]\n",
      "[[1 2 5 6]\n",
      " [3 4 7 8]]\n"
     ]
    }
   ],
   "source": [
    "#18. Write a function that takes two NumPy arrays and concatenates them along a specified axis.\n",
    " \n",
    " \n",
    "import numpy as np\n",
    "\n",
    "def concatenate_arrays(arr1, arr2, axis=0):\n",
    "    return np.concatenate((arr1, arr2), axis=axis)\n",
    "\n",
    "arr1 = np.array([[1, 2], [3, 4]])\n",
    "arr2 = np.array([[5, 6], [7, 8]])\n",
    "print(concatenate_arrays(arr1, arr2, axis=0))\n",
    "print(concatenate_arrays(arr1, arr2, axis=1))"
   ]
  },
  {
   "cell_type": "code",
   "execution_count": 20,
   "id": "28f52d14-c872-4e21-8a87-bf3bf997ac57",
   "metadata": {},
   "outputs": [
    {
     "ename": "ValueError",
     "evalue": "all the input array dimensions for the concatenation axis must match exactly, but along dimension 0, the array at index 0 has size 2 and the array at index 1 has size 3",
     "output_type": "error",
     "traceback": [
      "\u001b[0;31m---------------------------------------------------------------------------\u001b[0m",
      "\u001b[0;31mValueError\u001b[0m                                Traceback (most recent call last)",
      "Cell \u001b[0;32mIn[20], line 6\u001b[0m\n\u001b[1;32m      4\u001b[0m arr1 \u001b[38;5;241m=\u001b[39m np\u001b[38;5;241m.\u001b[39marray([[\u001b[38;5;241m1\u001b[39m, \u001b[38;5;241m2\u001b[39m, \u001b[38;5;241m3\u001b[39m], [\u001b[38;5;241m4\u001b[39m, \u001b[38;5;241m5\u001b[39m, \u001b[38;5;241m6\u001b[39m]])\n\u001b[1;32m      5\u001b[0m arr2 \u001b[38;5;241m=\u001b[39m np\u001b[38;5;241m.\u001b[39marray([[\u001b[38;5;241m7\u001b[39m, \u001b[38;5;241m8\u001b[39m, \u001b[38;5;241m9\u001b[39m]])\n\u001b[0;32m----> 6\u001b[0m \u001b[38;5;28mprint\u001b[39m(\u001b[43mnp\u001b[49m\u001b[38;5;241;43m.\u001b[39;49m\u001b[43mconcatenate\u001b[49m\u001b[43m(\u001b[49m\u001b[43m(\u001b[49m\u001b[43marr1\u001b[49m\u001b[43m,\u001b[49m\u001b[43m \u001b[49m\u001b[43marr2\u001b[49m\u001b[38;5;241;43m.\u001b[39;49m\u001b[43mT\u001b[49m\u001b[43m)\u001b[49m\u001b[43m,\u001b[49m\u001b[43m \u001b[49m\u001b[43maxis\u001b[49m\u001b[38;5;241;43m=\u001b[39;49m\u001b[38;5;241;43m1\u001b[39;49m\u001b[43m)\u001b[49m)\n",
      "File \u001b[0;32m<__array_function__ internals>:180\u001b[0m, in \u001b[0;36mconcatenate\u001b[0;34m(*args, **kwargs)\u001b[0m\n",
      "\u001b[0;31mValueError\u001b[0m: all the input array dimensions for the concatenation axis must match exactly, but along dimension 0, the array at index 0 has size 2 and the array at index 1 has size 3"
     ]
    }
   ],
   "source": [
    "#19. Create two NumPy arrays with different shapes and concatenate them horizontally using numpy.concatenate.\n",
    " \n",
    " \n",
    "arr1 = np.array([[1, 2, 3], [4, 5, 6]])\n",
    "arr2 = np.array([[7, 8, 9]])\n",
    "print(np.concatenate((arr1, arr2.T), axis=1))"
   ]
  },
  {
   "cell_type": "code",
   "execution_count": 21,
   "id": "6b315f17-7bae-4700-83d2-767a7e6f89a4",
   "metadata": {},
   "outputs": [
    {
     "name": "stdout",
     "output_type": "stream",
     "text": [
      "[[1 2 3]\n",
      " [4 5 6]\n",
      " [7 8 9]]\n"
     ]
    }
   ],
   "source": [
    "#20. Write a function that vertically stacks multiple NumPy arrays given as a list.\n",
    " \n",
    " \n",
    "def stack_vertically(arr_list):\n",
    "    return np.vstack(arr_list)\n",
    "\n",
    "arr1 = np.array([1, 2, 3])\n",
    "arr2 = np.array([4, 5, 6])\n",
    "arr3 = np.array([7, 8, 9])\n",
    "print(stack_vertically([arr1, arr2, arr3]))"
   ]
  },
  {
   "cell_type": "code",
   "execution_count": 22,
   "id": "decef33c-245d-4a25-a607-8d2a59ebd3cb",
   "metadata": {},
   "outputs": [
    {
     "name": "stdout",
     "output_type": "stream",
     "text": [
      "[1 3 5 7 9]\n"
     ]
    }
   ],
   "source": [
    "#21. Write a  function using NumPy to create an array of integers within a specified range (inclusive) with a given step size.\n",
    " \n",
    " \n",
    "def create_range_array(start, stop, step):\n",
    "    return np.arange(start, stop + 1, step)\n",
    "\n",
    "print(create_range_array(1, 10, 2))"
   ]
  },
  {
   "cell_type": "code",
   "execution_count": 24,
   "id": "c678a50f-22ff-4f80-9379-85be4b1ccc64",
   "metadata": {},
   "outputs": [
    {
     "name": "stdout",
     "output_type": "stream",
     "text": [
      "[0.         0.11111111 0.22222222 0.33333333 0.44444444 0.55555556\n",
      " 0.66666667 0.77777778 0.88888889 1.        ]\n"
     ]
    }
   ],
   "source": [
    "#22. Write a  function using NumPy to generate an array of 10 equally spaced values between 0 and 1 (inclusive).\n",
    " \n",
    " \n",
    "def generate_equally_spaced_array(start, stop, num):\n",
    "    return np.linspace(start, stop, num)\n",
    "\n",
    "print(generate_equally_spaced_array(0, 1, 10))"
   ]
  },
  {
   "cell_type": "code",
   "execution_count": 25,
   "id": "91051896-faae-490a-9e76-1653175b0777",
   "metadata": {},
   "outputs": [
    {
     "name": "stdout",
     "output_type": "stream",
     "text": [
      "[   1.            5.62341325   31.6227766   177.827941   1000.        ]\n"
     ]
    }
   ],
   "source": [
    "#23. Write a  function using NumPy to create an array of 5 logarithmically spaced values between 1 and 1000 (inclusive).\n",
    " \n",
    " \n",
    "def generate_log_space_array(start, stop, num):\n",
    "    return np.logspace(np.log10(start), np.log10(stop), num)\n",
    "\n",
    "print(generate_log_space_array(1, 1000, 5))"
   ]
  },
  {
   "cell_type": "code",
   "execution_count": 26,
   "id": "c252c1fb-7bc5-4d9d-a311-58152ce7457d",
   "metadata": {},
   "outputs": [
    {
     "name": "stdout",
     "output_type": "stream",
     "text": [
      "   col1  col2  col3\n",
      "0    86    84    17\n",
      "1    79    71    49\n",
      "2    25    45    48\n",
      "3    35    96    55\n",
      "4    60    64    31\n"
     ]
    }
   ],
   "source": [
    "# 24. Create a Pandas DataFrame using a NumPy array that contains 5 rows and 3 columns, where the values are random integers between 1 and 100.\n",
    " \n",
    " \n",
    "import pandas as pd\n",
    "\n",
    "def create_random_dataframe(rows, cols, min_val, max_val):\n",
    "    data = np.random.randint(min_val, max_val + 1, size=(rows, cols))\n",
    "    return pd.DataFrame(data, columns=[f'col{i+1}' for i in range(cols)])\n",
    "\n",
    "print(create_random_dataframe(5, 3, 1, 100))"
   ]
  },
  {
   "cell_type": "code",
   "execution_count": 27,
   "id": "3af40787-58b3-4a79-ae55-df55c0f33b75",
   "metadata": {},
   "outputs": [
    {
     "name": "stdout",
     "output_type": "stream",
     "text": [
      "   A  B\n",
      "0  1 -1\n",
      "1  0  2\n",
      "2  3 -3\n",
      "3  0  4\n",
      "4  5 -5\n"
     ]
    }
   ],
   "source": [
    "#25. Write a function that takes a Pandas DataFrame and replaces all negative values in a specific column with zeros. Use NumPy operations within the Pandas DataFrame.\n",
    " \n",
    " \n",
    "def replace_negatives_with_zero(df, column):\n",
    "    df[column] = np.where(df[column] < 0, 0, df[column])\n",
    "    return df\n",
    "\n",
    "df = pd.DataFrame({\n",
    "    'A': [1, -2, 3, -4, 5],\n",
    "    'B': [-1, 2, -3, 4, -5]\n",
    "})\n",
    "print(replace_negatives_with_zero(df, 'A'))"
   ]
  },
  {
   "cell_type": "code",
   "execution_count": 28,
   "id": "b14eb95a-d25c-461d-ad04-c1c3c7b6dcc7",
   "metadata": {},
   "outputs": [
    {
     "name": "stdout",
     "output_type": "stream",
     "text": [
      "30\n"
     ]
    }
   ],
   "source": [
    "#26. Access the 3rd element from the given NumPy array.\n",
    " \n",
    " \n",
    "arr = np.array([10, 20, 30, 40, 50])\n",
    "print(arr[2])"
   ]
  },
  {
   "cell_type": "code",
   "execution_count": 29,
   "id": "f08a81cb-2da6-4a75-bd5e-4bbcc72e97ab",
   "metadata": {},
   "outputs": [
    {
     "name": "stdout",
     "output_type": "stream",
     "text": [
      "6\n"
     ]
    }
   ],
   "source": [
    "#27. Retrieve the element at index (1, 2) from the 2D NumPy array.\n",
    " \n",
    " \n",
    "arr_2d = np.array([[1, 2, 3], [4, 5, 6], [7, 8, 9]])\n",
    "print(arr_2d[1, 2])\n"
   ]
  },
  {
   "cell_type": "code",
   "execution_count": 30,
   "id": "4d16ee3f-92df-44a3-ae1e-1466bcbbbe64",
   "metadata": {},
   "outputs": [
    {
     "name": "stdout",
     "output_type": "stream",
     "text": [
      "[ 8 10  7]\n"
     ]
    }
   ],
   "source": [
    "#28: Using boolean indexing, extract elements greater than 5 from the given NumPy array\n",
    " \n",
    " \n",
    "import numpy as np\n",
    "\n",
    "arr = np.array([3, 8, 2, 10, 5, 7])\n",
    "result = arr[arr > 5]\n",
    "print(result)"
   ]
  },
  {
   "cell_type": "code",
   "execution_count": 31,
   "id": "5d7519a2-2973-450e-bb47-2d4a4027af5b",
   "metadata": {},
   "outputs": [
    {
     "name": "stdout",
     "output_type": "stream",
     "text": [
      "[3 4 5 6]\n"
     ]
    }
   ],
   "source": [
    "#29: Perform basic slicing to extract elements from index 2 to 5 (inclusive) from the given NumPy array\n",
    " \n",
    " \n",
    "import numpy as np\n",
    "\n",
    "arr = np.array([1, 2, 3, 4, 5, 6, 7, 8, 9])\n",
    "result = arr[2:6]  # Slicing is exclusive of the end index, so we use 6 to include element at index 5\n",
    "print(result)"
   ]
  },
  {
   "cell_type": "code",
   "execution_count": 32,
   "id": "b4ec7d98-a7a1-4cca-aba3-847371dd3fc9",
   "metadata": {},
   "outputs": [
    {
     "name": "stdout",
     "output_type": "stream",
     "text": [
      "[[2 3]\n",
      " [5 6]]\n"
     ]
    }
   ],
   "source": [
    "#30: Slice the 2D NumPy array to extract the sub-array [[2, 3], [5, 6]] from the given array\n",
    " \n",
    " \n",
    "import numpy as np\n",
    "\n",
    "arr_2d = np.array([[1, 2, 3],\n",
    "                   [4, 5, 6],\n",
    "                   [7, 8, 9]])\n",
    "result = arr_2d[0:2, 1:3]\n",
    "print(result)"
   ]
  },
  {
   "cell_type": "code",
   "execution_count": 33,
   "id": "a899f7b3-055f-4668-99ec-606598186858",
   "metadata": {},
   "outputs": [
    {
     "name": "stdout",
     "output_type": "stream",
     "text": [
      "[[[1 2 3]\n",
      "  [4 5 6]]\n",
      "\n",
      " [[4 5 6]\n",
      "  [7 8 9]]]\n"
     ]
    }
   ],
   "source": [
    "#31: Write a NumPy function to extract elements in specific order from a given 2D array based on indices provided in another array\n",
    " \n",
    " \n",
    "import numpy as np\n",
    "\n",
    "def extract_elements(arr, indices):\n",
    "    return arr[indices]\n",
    "\n",
    "arr = np.array([[1, 2, 3], \n",
    "                [4, 5, 6], \n",
    "                [7, 8, 9]])\n",
    "indices = np.array([[0, 1], \n",
    "                    [1, 2]])\n",
    "result = extract_elements(arr, indices)\n",
    "print(result)"
   ]
  },
  {
   "cell_type": "code",
   "execution_count": 34,
   "id": "47cab1fa-8adf-4a23-a4e7-0de16a179cac",
   "metadata": {},
   "outputs": [
    {
     "name": "stdout",
     "output_type": "stream",
     "text": [
      "[6 7 8 9]\n"
     ]
    }
   ],
   "source": [
    "#32: Create a NumPy function that filters elements greater than a threshold from a given 1D array using boolean indexing\n",
    " \n",
    " \n",
    "import numpy as np\n",
    "\n",
    "def filter_elements(arr, threshold):\n",
    "    return arr[arr > threshold]\n",
    "\n",
    "arr = np.array([1, 2, 3, 4, 5, 6, 7, 8, 9])\n",
    "threshold = 5\n",
    "result = filter_elements(arr, threshold)\n",
    "print(result)"
   ]
  },
  {
   "cell_type": "code",
   "execution_count": 35,
   "id": "2959c373-0f47-4723-9737-ec26eb8a0188",
   "metadata": {},
   "outputs": [
    {
     "name": "stdout",
     "output_type": "stream",
     "text": [
      "[ 3 11]\n"
     ]
    }
   ],
   "source": [
    "#33: Develop a NumPy function that extracts specific elements from a 3D array using indices provided in three separate arrays for each dimension\n",
    " \n",
    " \n",
    "import numpy as np\n",
    "\n",
    "def extract_elements_3d(arr, indices_x, indices_y, indices_z):\n",
    "    return arr[indices_x, indices_y, indices_z]\n",
    "\n",
    "arr = np.array([[[1, 2, 3], [4, 5, 6]], \n",
    "                [[7, 8, 9], [10, 11, 12]]])\n",
    "indices_x = np.array([0, 1])\n",
    "indices_y = np.array([0, 1])\n",
    "indices_z = np.array([2, 1])\n",
    "result = extract_elements_3d(arr, indices_x, indices_y, indices_z)\n",
    "print(result)"
   ]
  },
  {
   "cell_type": "code",
   "execution_count": 36,
   "id": "258e7758-1695-441b-954e-4ac662201e55",
   "metadata": {},
   "outputs": [
    {
     "name": "stdout",
     "output_type": "stream",
     "text": [
      "[4 5 6 7]\n"
     ]
    }
   ],
   "source": [
    "#34: Write a NumPy function that returns elements from an array where both two conditions are satisfied using boolean indexing\n",
    " \n",
    " \n",
    "import numpy as np\n",
    "\n",
    "def filter_elements_two_conditions(arr, condition1, condition2):\n",
    "    return arr[condition1 & condition2]\n",
    "\n",
    "arr = np.array([1, 2, 3, 4, 5, 6, 7, 8, 9])\n",
    "condition1 = arr > 3\n",
    "condition2 = arr < 8\n",
    "result = filter_elements_two_conditions(arr, condition1, condition2)\n",
    "print(result)"
   ]
  },
  {
   "cell_type": "code",
   "execution_count": 37,
   "id": "1f86346a-bb06-46f1-9eed-35a70a88b846",
   "metadata": {},
   "outputs": [
    {
     "name": "stdout",
     "output_type": "stream",
     "text": [
      "[2 6 7]\n"
     ]
    }
   ],
   "source": [
    "# 35: Create a NumPy function that extracts elements from a 2D array using row and column indices provided in separate arrays\n",
    " \n",
    " \n",
    "import numpy as np\n",
    "\n",
    "def extract_elements_2d(arr, row_indices, col_indices):\n",
    "    return arr[row_indices, col_indices]\n",
    "\n",
    "arr = np.array([[1, 2, 3], \n",
    "                [4, 5, 6], \n",
    "                [7, 8, 9]])\n",
    "row_indices = np.array([0, 1, 2])\n",
    "col_indices = np.array([1, 2, 0])\n",
    "result = extract_elements_2d(arr, row_indices, col_indices)\n",
    "print(result)"
   ]
  },
  {
   "cell_type": "code",
   "execution_count": 38,
   "id": "d926444c-9747-4768-a6b5-bc54512e3bea",
   "metadata": {},
   "outputs": [
    {
     "name": "stdout",
     "output_type": "stream",
     "text": [
      "[[ 6  7  8]\n",
      " [ 9 10 11]\n",
      " [12 13 14]]\n"
     ]
    }
   ],
   "source": [
    "# 36: Given an array arr of shape (3, 3), add a scalar value of 5 to each element using NumPy broadcasting\n",
    " \n",
    " \n",
    "import numpy as np\n",
    "\n",
    "arr = np.array([[1, 2, 3], \n",
    "                [4, 5, 6], \n",
    "                [7, 8, 9]])\n",
    "result = arr + 5\n",
    "print(result)"
   ]
  },
  {
   "cell_type": "code",
   "execution_count": 39,
   "id": "473c66fb-ce78-45d8-adf8-7304c7dd2368",
   "metadata": {},
   "outputs": [
    {
     "name": "stdout",
     "output_type": "stream",
     "text": [
      "[[ 2  4  6  8]\n",
      " [15 18 21 24]\n",
      " [36 40 44 48]]\n"
     ]
    }
   ],
   "source": [
    "# 37: Consider two arrays arr1 of shape (1, 3) and arr2 of shape (3, 4). Multiply each row of arr2 by the corresponding element in arr1 using NumPy broadcasting\n",
    " \n",
    " \n",
    "import numpy as np\n",
    "\n",
    "arr1 = np.array([[2, 3, 4]])\n",
    "arr2 = np.array([[1, 2, 3, 4], \n",
    "                 [5, 6, 7, 8], \n",
    "                 [9, 10, 11, 12]])\n",
    "result = arr2 * arr1.T  # Transpose arr1 to shape (3, 1) for broadcasting\n",
    "print(result)"
   ]
  },
  {
   "cell_type": "code",
   "execution_count": 40,
   "id": "082db7cb-4404-4b93-ac7c-44ef7a336891",
   "metadata": {},
   "outputs": [
    {
     "name": "stdout",
     "output_type": "stream",
     "text": [
      "[[ 2  3  4]\n",
      " [ 6  7  8]\n",
      " [10 11 12]\n",
      " [14 15 16]]\n"
     ]
    }
   ],
   "source": [
    "# 38: Given a 1D array arr1 of shape (1, 4) and a 2D array arr2 of shape (4, 3), add arr1 to each row of arr2 using NumPy broadcasting\n",
    " \n",
    " \n",
    "import numpy as np\n",
    "\n",
    "arr1 = np.array([[1, 2, 3, 4]])\n",
    "arr2 = np.array([[1, 2, 3], \n",
    "                 [4, 5, 6], \n",
    "                 [7, 8, 9], \n",
    "                 [10, 11, 12]])\n",
    "result = arr2 + arr1.T  # Transpose arr1 to shape (4, 1) for broadcasting\n",
    "print(result)"
   ]
  },
  {
   "cell_type": "code",
   "execution_count": 41,
   "id": "a4d075b4-8eca-47c0-aa5c-089e4ca7a6fa",
   "metadata": {},
   "outputs": [
    {
     "name": "stdout",
     "output_type": "stream",
     "text": [
      "[[5 6 7]\n",
      " [6 7 8]\n",
      " [7 8 9]]\n"
     ]
    }
   ],
   "source": [
    "#39: Consider two arrays arr1 of shape (3, 1) and arr2 of shape (1, 3). Add these arrays using NumPy broadcasting\n",
    " \n",
    " \n",
    "import numpy as np\n",
    "\n",
    "arr1 = np.array([[1], \n",
    "                 [2], \n",
    "                 [3]])\n",
    "arr2 = np.array([[4, 5, 6]])\n",
    "result = arr1 + arr2\n",
    "print(result)"
   ]
  },
  {
   "cell_type": "code",
   "execution_count": 43,
   "id": "31da2529-3354-46aa-a77c-03a7cf8440f5",
   "metadata": {},
   "outputs": [
    {
     "name": "stdout",
     "output_type": "stream",
     "text": [
      "[[[ 7 14 21]\n",
      "  [ 8 16 24]]\n",
      "\n",
      " [[36 45 54]\n",
      "  [40 50 60]]]\n"
     ]
    }
   ],
   "source": [
    "# 40: Given arrays arr1 of shape (2, 3) and arr2 of shape (2, 2), perform multiplication using NumPy broadcasting. Handle the shape incompatibility\n",
    "#Since the shapes (2, 3) and (2, 2) are incompatible for broadcasting, we can adjust the dimensions of one of the arrays to make them compatible. We can use a combination of broadcasting and manual adjustment to achieve the multiplication:\n",
    "\n",
    "\n",
    "import numpy as np\n",
    "\n",
    "arr1 = np.array([[1, 2, 3], \n",
    "                 [4, 5, 6]])\n",
    "arr2 = np.array([[7, 8], \n",
    "                 [9, 10]])\n",
    "\n",
    "# To make the shapes compatible, we need to expand the dimensions of arr2\n",
    "# For example, we can add a new axis to arr2 to make its shape (2, 2, 1)\n",
    "arr2_expanded = arr2[:, :, np.newaxis]\n",
    "\n",
    "# Now we can broadcast arr1 to the shape of arr2_expanded and perform the multiplication\n",
    "result = arr1[:, np.newaxis, :] * arr2_expanded\n",
    "print(result)\n"
   ]
  },
  {
   "cell_type": "code",
   "execution_count": 44,
   "id": "a40c9441-6f99-41ce-bf9d-ffaca9add50d",
   "metadata": {},
   "outputs": [
    {
     "name": "stdout",
     "output_type": "stream",
     "text": [
      "Column-wise mean: [2.5 3.5 4.5]\n"
     ]
    }
   ],
   "source": [
    " # 41: Calculate column-wise mean for the given array\n",
    " \n",
    " \n",
    "import numpy as np\n",
    "\n",
    "arr = np.array([[1, 2, 3], [4, 5, 6]])\n",
    "column_wise_mean = np.mean(arr, axis=0)\n",
    "print(\"Column-wise mean:\", column_wise_mean)"
   ]
  },
  {
   "cell_type": "code",
   "execution_count": 45,
   "id": "13803747-fa4f-4891-9705-66956b6a1f28",
   "metadata": {},
   "outputs": [
    {
     "name": "stdout",
     "output_type": "stream",
     "text": [
      "Maximum value in each row: [3 6]\n",
      "Indices of maximum value in each column: [1 1 1]\n"
     ]
    }
   ],
   "source": [
    " # 42: Find maximum value in each row of the given array\n",
    " \n",
    " \n",
    "import numpy as np\n",
    "\n",
    "arr = np.array([[1, 2, 3], [4, 5, 6]])\n",
    "row_wise_max = np.max(arr, axis=1)\n",
    "print(\"Maximum value in each row:\", row_wise_max)\n",
    " # 43: For the given array, find indices of maximum value in each column\n",
    " \n",
    " \n",
    "import numpy as np\n",
    "\n",
    "arr = np.array([[1, 2, 3], [4, 5, 6]])\n",
    "indices_max_value = np.argmax(arr, axis=0)\n",
    "print(\"Indices of maximum value in each column:\", indices_max_value)"
   ]
  },
  {
   "cell_type": "code",
   "execution_count": 46,
   "id": "9e8c4b6c-ce91-4e3b-aac4-18e8b101745a",
   "metadata": {},
   "outputs": [
    {
     "name": "stdout",
     "output_type": "stream",
     "text": [
      "Moving sum along rows: [[ 1  3  6]\n",
      " [ 4  9 15]]\n"
     ]
    }
   ],
   "source": [
    " # 44: For the given array, apply custom function to calculate moving sum along rows\n",
    " \n",
    " \n",
    "import numpy as np\n",
    "\n",
    "arr = np.array([[1, 2, 3], [4, 5, 6]])\n",
    "\n",
    "def moving_sum(arr):\n",
    "    result = np.cumsum(arr, axis=1)\n",
    "    return result\n",
    "\n",
    "moving_sum_result = moving_sum(arr)\n",
    "print(\"Moving sum along rows:\", moving_sum_result)"
   ]
  },
  {
   "cell_type": "code",
   "execution_count": 47,
   "id": "a6a2b9ee-148f-4cbb-9b79-e2325ecf1652",
   "metadata": {},
   "outputs": [
    {
     "name": "stdout",
     "output_type": "stream",
     "text": [
      "Are all elements in each column even: [False False False]\n"
     ]
    }
   ],
   "source": [
    " # 45: In the given array, check if all elements in each column are even\n",
    " \n",
    " \n",
    "import numpy as np\n",
    "\n",
    "arr = np.array([[2, 4, 6], [3, 5, 7]])\n",
    "are_all_even = np.all(arr % 2 == 0, axis=0)\n",
    "print(\"Are all elements in each column even:\", are_all_even)"
   ]
  },
  {
   "cell_type": "code",
   "execution_count": 48,
   "id": "4ea430e2-d529-404b-a9b7-4b96e69bfd13",
   "metadata": {},
   "outputs": [
    {
     "name": "stdout",
     "output_type": "stream",
     "text": [
      "Reshaped matrix:\n",
      " [[1 2 3]\n",
      " [4 5 6]]\n"
     ]
    }
   ],
   "source": [
    " # 46: Given a NumPy array arr, reshape it into a matrix of dimensions m rows and n columns\n",
    " \n",
    " \n",
    "import numpy as np\n",
    "\n",
    "original_array = np.array([1, 2, 3, 4, 5, 6])\n",
    "reshaped_matrix = original_array.reshape(2, 3)  # Example: 2 rows and 3 columns\n",
    "print(\"Reshaped matrix:\\n\", reshaped_matrix)"
   ]
  },
  {
   "cell_type": "code",
   "execution_count": 49,
   "id": "b4ce5e19-75d6-4fea-9c87-4001f906263d",
   "metadata": {},
   "outputs": [
    {
     "name": "stdout",
     "output_type": "stream",
     "text": [
      "Flattened array: [1 2 3 4 5 6]\n"
     ]
    }
   ],
   "source": [
    "# 47: Create a function that takes a matrix as input and returns the flattened array\n",
    " \n",
    " \n",
    "import numpy as np\n",
    "\n",
    "def flatten_matrix(matrix):\n",
    "    flattened = matrix.flatten()\n",
    "    return flattened\n",
    "\n",
    "matrix = np.array([[1, 2, 3], [4, 5, 6]])\n",
    "flattened_array = flatten_matrix(matrix)\n",
    "print(\"Flattened array:\", flattened_array)"
   ]
  },
  {
   "cell_type": "code",
   "execution_count": 50,
   "id": "f30bf2f9-6057-420a-b60f-ef5a1a76aa2e",
   "metadata": {},
   "outputs": [
    {
     "name": "stdout",
     "output_type": "stream",
     "text": [
      "Concatenated array along axis 0:\n",
      " [[1 2]\n",
      " [3 4]\n",
      " [5 6]\n",
      " [7 8]]\n"
     ]
    }
   ],
   "source": [
    " # 48: Write a function that concatenates two given arrays along a specified axis\n",
    " \n",
    " \n",
    "import numpy as np\n",
    "\n",
    "def concatenate_arrays(array1, array2, axis=0):\n",
    "    return np.concatenate((array1, array2), axis=axis)\n",
    "\n",
    "array1 = np.array([[1, 2], [3, 4]])\n",
    "array2 = np.array([[5, 6], [7, 8]])\n",
    "concatenated_array = concatenate_arrays(array1, array2, axis=0)\n",
    "print(\"Concatenated array along axis 0:\\n\", concatenated_array)"
   ]
  },
  {
   "cell_type": "code",
   "execution_count": 51,
   "id": "8da2d74a-6cce-4462-80df-1cb470a319a6",
   "metadata": {},
   "outputs": [
    {
     "name": "stdout",
     "output_type": "stream",
     "text": [
      "Split arrays:\n",
      " [array([[1, 2, 3]]), array([[4, 5, 6]]), array([[7, 8, 9]])]\n"
     ]
    }
   ],
   "source": [
    " # 49: Create a function that splits an array into multiple sub-arrays along a specified axis\n",
    " \n",
    " \n",
    "import numpy as np\n",
    "\n",
    "def split_array(array, indices_or_sections, axis=0):\n",
    "    return np.split(array, indices_or_sections, axis=axis)\n",
    "\n",
    "original_array = np.array([[1, 2, 3], [4, 5, 6], [7, 8, 9]])\n",
    "split_arrays = split_array(original_array, 3, axis=0)\n",
    "print(\"Split arrays:\\n\", split_arrays)"
   ]
  },
  {
   "cell_type": "code",
   "execution_count": 52,
   "id": "001b6100-da1d-4a57-8bca-68e9fb8d0b42",
   "metadata": {},
   "outputs": [
    {
     "name": "stdout",
     "output_type": "stream",
     "text": [
      "Modified array: [ 1 10  4 11  5]\n"
     ]
    }
   ],
   "source": [
    " # 50: Write a function that inserts and then deletes elements from a given array at specified indices\n",
    " \n",
    " \n",
    "import numpy as np\n",
    "\n",
    "def insert_and_delete_elements(original_array, indices_to_insert, values_to_insert, indices_to_delete):\n",
    "    modified_array = np.insert(original_array, indices_to_insert, values_to_insert)\n",
    "    modified_array = np.delete(modified_array, indices_to_delete)\n",
    "    return modified_array\n",
    "\n",
    "original_array = np.array([1, 2, 3, 4, 5])\n",
    "indices_to_insert = [2, 4]\n",
    "values_to_insert = [10, 11]\n",
    "indices_to_delete = [1, 3]\n",
    "modified_array = insert_and_delete_elements(original_array, indices_to_insert, values_to_insert, indices_to_delete)\n",
    "print(\"Modified array:\", modified_array)"
   ]
  },
  {
   "cell_type": "code",
   "execution_count": 53,
   "id": "f63da8e8-5573-4d1c-adbf-35530b543fe1",
   "metadata": {},
   "outputs": [
    {
     "name": "stdout",
     "output_type": "stream",
     "text": [
      "Element-wise addition: [ 7  4  6  5  7 16 17 18 10 15]\n"
     ]
    }
   ],
   "source": [
    " # 51: Create a NumPy array arr1 with random integers and another array arr2 with integers from 1 to 10. Perform element-wise addition between arr1 and arr2\n",
    " \n",
    " \n",
    "import numpy as np\n",
    "\n",
    "arr1 = np.random.randint(1, 11, size=10)\n",
    "arr2 = np.arange(1, 11)\n",
    "element_wise_addition = np.add(arr1, arr2)\n",
    "print(\"Element-wise addition:\", element_wise_addition)"
   ]
  },
  {
   "cell_type": "code",
   "execution_count": 54,
   "id": "7eb70ab4-ab0e-4acb-86da-99775b1f3bbf",
   "metadata": {},
   "outputs": [
    {
     "name": "stdout",
     "output_type": "stream",
     "text": [
      "Element-wise subtraction: [ 9  7  5  3  1 -1 -3 -5 -7 -9]\n"
     ]
    }
   ],
   "source": [
    " # 52: Generate a NumPy array arr1 with sequential integers from 10 to 1 and another array arr2 with integers from 1 to 10. Subtract arr2 from arr1 element-wise\n",
    " \n",
    " \n",
    "import numpy as np\n",
    "\n",
    "arr1 = np.arange(10, 0, -1)\n",
    "arr2 = np.arange(1, 11)\n",
    "element_wise_subtraction = np.subtract(arr1, arr2)\n",
    "print(\"Element-wise subtraction:\", element_wise_subtraction)"
   ]
  },
  {
   "cell_type": "code",
   "execution_count": 55,
   "id": "b76f035a-bebc-4805-95e2-c403987f15d5",
   "metadata": {},
   "outputs": [
    {
     "name": "stdout",
     "output_type": "stream",
     "text": [
      "Element-wise multiplication: [ 7  6  6 28 35]\n"
     ]
    }
   ],
   "source": [
    "# 53: Create a NumPy array arr1 with random integers and another array arr2 with integers from 1 to 5. Perform element-wise multiplication between arr1 and arr2\n",
    " \n",
    " \n",
    "import numpy as np\n",
    "\n",
    "arr1 = np.random.randint(1, 11, size=5)\n",
    "arr2 = np.arange(1, 6)\n",
    "element_wise_multiplication = np.multiply(arr1, arr2)\n",
    "print(\"Element-wise multiplication:\", element_wise_multiplication)"
   ]
  },
  {
   "cell_type": "code",
   "execution_count": 56,
   "id": "da8af7d8-c8a4-4fcd-8434-f08264a3aaf1",
   "metadata": {},
   "outputs": [
    {
     "name": "stdout",
     "output_type": "stream",
     "text": [
      "Element-wise division: [2. 2. 2. 2. 2.]\n"
     ]
    }
   ],
   "source": [
    " # 54: Generate a NumPy array arr1 with even integers from 2 to 10 and another array arr2 with integers from 1 to 5. Perform element-wise division of arr1 by arr2\n",
    " \n",
    " \n",
    "import numpy as np\n",
    "\n",
    "arr1 = np.arange(2, 12, 2)\n",
    "arr2 = np.arange(1, 6)\n",
    "element_wise_division = np.divide(arr1, arr2)\n",
    "print(\"Element-wise division:\", element_wise_division)"
   ]
  },
  {
   "cell_type": "code",
   "execution_count": 57,
   "id": "db723e7a-6819-4e6b-802f-b3c31c252bd6",
   "metadata": {},
   "outputs": [
    {
     "name": "stdout",
     "output_type": "stream",
     "text": [
      "Array after replacing substring:\n",
      " ['fruit' 'banana' 'grape' 'pinefruit']\n"
     ]
    }
   ],
   "source": [
    " # 58: Write a function that replaces occurrences of a substring in a NumPy array of strings with a new string\n",
    " \n",
    " \n",
    "import numpy as np\n",
    "\n",
    "def replace_substring(array, old_substring, new_substring):\n",
    "    return np.char.replace(array, old_substring, new_substring)\n",
    "\n",
    "arr = np.array(['apple', 'banana', 'grape', 'pineapple'])\n",
    "old_substring = 'apple'\n",
    "new_substring = 'fruit'\n",
    "replaced_array = replace_substring(arr, old_substring, new_substring)\n",
    "print(\"Array after replacing substring:\\n\", replaced_array)"
   ]
  },
  {
   "cell_type": "code",
   "execution_count": 58,
   "id": "e8e27958-fde6-46c6-80da-ff99c21f6142",
   "metadata": {},
   "outputs": [
    {
     "name": "stdout",
     "output_type": "stream",
     "text": [
      "Element-wise concatenated array:\n",
      " ['HelloOpen' 'WorldAI']\n"
     ]
    }
   ],
   "source": [
    " # 59: Write a function that concatenates strings in a NumPy array element-wise\n",
    " \n",
    " \n",
    "import numpy as np\n",
    "\n",
    "def concatenate_strings(array1, array2):\n",
    "    return np.char.add(array1, array2)\n",
    "\n",
    "arr1 = np.array(['Hello', 'World'])\n",
    "arr2 = np.array(['Open', 'AI'])\n",
    "concatenated_array = concatenate_strings(arr1, arr2)\n",
    "print(\"Element-wise concatenated array:\\n\", concatenated_array)"
   ]
  },
  {
   "cell_type": "code",
   "execution_count": 59,
   "id": "8929f64e-dfd1-4a14-bd99-1ebb4247fd9a",
   "metadata": {},
   "outputs": [
    {
     "name": "stdout",
     "output_type": "stream",
     "text": [
      "Length of the longest string: 9\n"
     ]
    }
   ],
   "source": [
    " # 60: Write a function that finds the length of the longest string in a NumPy array\n",
    " \n",
    " \n",
    "import numpy as np\n",
    "\n",
    "def length_of_longest_string(array):\n",
    "    return np.max(np.char.str_len(array))\n",
    "\n",
    "arr = np.array(['apple', 'banana', 'grape', 'pineapple'])\n",
    "longest_string_length = length_of_longest_string(arr)\n",
    "print(\"Length of the longest string:\", longest_string_length)"
   ]
  },
  {
   "cell_type": "code",
   "execution_count": 60,
   "id": "637c194e-01df-47e0-b622-875f18145b7d",
   "metadata": {},
   "outputs": [
    {
     "name": "stdout",
     "output_type": "stream",
     "text": [
      "Dataset statistics:\n",
      "Mean: 490.7\n",
      "Median: 465.5\n",
      "Variance: 81161.38999999998\n",
      "Standard Deviation: 284.88838165148115\n"
     ]
    }
   ],
   "source": [
    " # 61: Create a dataset of 100 random integers between 1 and 1000. Compute the mean, median, variance, and standard deviation of the dataset using NumPy's functions\n",
    " \n",
    " \n",
    "import numpy as np\n",
    "\n",
    "dataset = np.random.randint(1, 1001, size=100)\n",
    "mean = np.mean(dataset)\n",
    "median = np.median(dataset)\n",
    "variance = np.var(dataset)\n",
    "std_dev = np.std(dataset)\n",
    "\n",
    "print(\"Dataset statistics:\")\n",
    "print(\"Mean:\", mean)\n",
    "print(\"Median:\", median)\n",
    "print(\"Variance:\", variance)\n",
    "print(\"Standard Deviation:\", std_dev)"
   ]
  },
  {
   "cell_type": "code",
   "execution_count": 61,
   "id": "e28aced7-87d7-4faf-a89f-dd014ac1c85a",
   "metadata": {},
   "outputs": [
    {
     "name": "stdout",
     "output_type": "stream",
     "text": [
      "25th Percentile: 29.0\n",
      "75th Percentile: 73.0\n"
     ]
    }
   ],
   "source": [
    " # 62: Generate an array of 50 random numbers between 1 and 100. Find the 25th and 75th percentiles of the dataset\n",
    " \n",
    " \n",
    "import numpy as np\n",
    "\n",
    "random_numbers = np.random.randint(1, 101, size=50)\n",
    "percentile_25 = np.percentile(random_numbers, 25)\n",
    "percentile_75 = np.percentile(random_numbers, 75)\n",
    "\n",
    "print(\"25th Percentile:\", percentile_25)\n",
    "print(\"75th Percentile:\", percentile_75)"
   ]
  },
  {
   "cell_type": "code",
   "execution_count": 62,
   "id": "2c256f76-0ed8-4334-b3df-6a8e6ef513de",
   "metadata": {},
   "outputs": [
    {
     "name": "stdout",
     "output_type": "stream",
     "text": [
      "Correlation coefficient matrix:\n",
      " [[ 1.         -0.05686489]\n",
      " [-0.05686489  1.        ]]\n"
     ]
    }
   ],
   "source": [
    " # 63: Create two arrays representing two sets of variables. Compute the correlation coefficient between these arrays using NumPy's corrcoef function\n",
    " \n",
    " \n",
    "import numpy as np\n",
    "\n",
    "array1 = np.random.randint(1, 101, size=50)\n",
    "array2 = np.random.randint(1, 101, size=50)\n",
    "correlation_coefficient = np.corrcoef(array1, array2)\n",
    "\n",
    "print(\"Correlation coefficient matrix:\\n\", correlation_coefficient)"
   ]
  },
  {
   "cell_type": "code",
   "execution_count": 63,
   "id": "27576950-29ec-40d1-a80c-16d1c66d68cd",
   "metadata": {},
   "outputs": [
    {
     "name": "stdout",
     "output_type": "stream",
     "text": [
      "Matrix product:\n",
      " [[19 22]\n",
      " [43 50]]\n"
     ]
    }
   ],
   "source": [
    " # 64: Create two matrices and perform matrix multiplication using NumPy's dot function\n",
    " \n",
    " \n",
    "import numpy as np\n",
    "\n",
    "matrix1 = np.array([[1, 2], [3, 4]])\n",
    "matrix2 = np.array([[5, 6], [7, 8]])\n",
    "matrix_product = np.dot(matrix1, matrix2)\n",
    "\n",
    "print(\"Matrix product:\\n\", matrix_product)"
   ]
  },
  {
   "cell_type": "code",
   "execution_count": 64,
   "id": "3f75609d-ac38-4c99-8ecd-0ee11a1311f3",
   "metadata": {},
   "outputs": [
    {
     "name": "stdout",
     "output_type": "stream",
     "text": [
      "10th Percentile: 111.4\n",
      "Median: 420.5\n",
      "90th Percentile: 842.6\n",
      "First Quartile (25th Percentile): 227.25\n",
      "Third Quartile (75th Percentile): 637.75\n"
     ]
    }
   ],
   "source": [
    " # 65: Create an array of 50 integers between 10 and 1000. Calculate the 10th, 50th (median), and 90th percentiles along with the first and third quartiles\n",
    " \n",
    " \n",
    "import numpy as np\n",
    "\n",
    "array = np.random.randint(10, 1001, size=50)\n",
    "percentile_10 = np.percentile(array, 10)\n",
    "median = np.median(array)\n",
    "percentile_90 = np.percentile(array, 90)\n",
    "first_quartile = np.percentile(array, 25)\n",
    "third_quartile = np.percentile(array, 75)\n",
    "\n",
    "print(\"10th Percentile:\", percentile_10)\n",
    "print(\"Median:\", median)\n",
    "print(\"90th Percentile:\", percentile_90)\n",
    "print(\"First Quartile (25th Percentile):\", first_quartile)\n",
    "print(\"Third Quartile (75th Percentile):\", third_quartile)"
   ]
  },
  {
   "cell_type": "code",
   "execution_count": 65,
   "id": "97e4699d-a414-428c-9f9f-54d09b67e3d5",
   "metadata": {},
   "outputs": [
    {
     "name": "stdout",
     "output_type": "stream",
     "text": [
      "Index of the element: [3]\n"
     ]
    }
   ],
   "source": [
    " # 66: Create a NumPy array of integers and find the index of a specific element\n",
    " \n",
    " \n",
    "import numpy as np\n",
    "\n",
    "array = np.array([1, 2, 3, 4, 5, 6])\n",
    "element_to_find = 4\n",
    "index = np.where(array == element_to_find)[0]\n",
    "\n",
    "print(\"Index of the element:\", index)"
   ]
  },
  {
   "cell_type": "code",
   "execution_count": 66,
   "id": "9ebb586c-3fc6-465f-b6d6-0bda9d1f42af",
   "metadata": {},
   "outputs": [
    {
     "name": "stdout",
     "output_type": "stream",
     "text": [
      "Sorted array: [ 2 22 33 36 38 64 69 78 80 91]\n"
     ]
    }
   ],
   "source": [
    " # 67: Generate a random NumPy array and sort it in ascending order\n",
    " \n",
    " \n",
    "import numpy as np\n",
    "\n",
    "random_array = np.random.randint(1, 101, size=10)\n",
    "sorted_array = np.sort(random_array)\n",
    "\n",
    "print(\"Sorted array:\", sorted_array)"
   ]
  },
  {
   "cell_type": "code",
   "execution_count": 67,
   "id": "46aa96bc-7758-44b8-9a40-228011182b06",
   "metadata": {},
   "outputs": [
    {
     "name": "stdout",
     "output_type": "stream",
     "text": [
      "Filtered array with elements >20: [112  25  60  42  30]\n"
     ]
    }
   ],
   "source": [
    " # 68: Filter elements >20 in the given NumPy array\n",
    " \n",
    " \n",
    "import numpy as np\n",
    "\n",
    "arr = np.array([112, 25, 60, 42, 8, 30])\n",
    "filtered_array = arr[arr > 20]\n",
    "\n",
    "print(\"Filtered array with elements >20:\", filtered_array)"
   ]
  },
  {
   "cell_type": "code",
   "execution_count": 68,
   "id": "b3a43717-5ae1-4ac1-8b5d-078f55d37989",
   "metadata": {},
   "outputs": [
    {
     "name": "stdout",
     "output_type": "stream",
     "text": [
      "Array after byte swapping in place: [16777216    65536      256]\n"
     ]
    }
   ],
   "source": [
    " # 72: Perform byte swapping in place using byteswap()\n",
    " \n",
    " \n",
    "import numpy as np\n",
    "\n",
    "arr = np.array([1, 256, 65536], dtype=np.int32)\n",
    "arr.byteswap(inplace=True)\n",
    "print(\"Array after byte swapping in place:\", arr)"
   ]
  },
  {
   "cell_type": "code",
   "execution_count": 69,
   "id": "94ddf4ba-7e2c-43d0-88e5-2c69d541e905",
   "metadata": {},
   "outputs": [
    {
     "name": "stdout",
     "output_type": "stream",
     "text": [
      "Original array: [    1   256 65536]\n",
      "Array after swapping byte order: [    1   256 65536]\n"
     ]
    }
   ],
   "source": [
    " # 73: Swap its byte order without modifying the original array using newbyteorder()\n",
    " \n",
    " \n",
    "import numpy as np\n",
    "\n",
    "arr = np.array([1, 256, 65536], dtype=np.int32)\n",
    "swapped_arr = arr.byteswap().newbyteorder()\n",
    "print(\"Original array:\", arr)\n",
    "print(\"Array after swapping byte order:\", swapped_arr)"
   ]
  },
  {
   "cell_type": "code",
   "execution_count": 70,
   "id": "c60b2086-57ed-4316-b0f5-8551e8422441",
   "metadata": {},
   "outputs": [
    {
     "name": "stdout",
     "output_type": "stream",
     "text": [
      "Original array: [    1   256 65536]\n",
      "Conditionally byte-swapped array: [    1   256 65536]\n"
     ]
    }
   ],
   "source": [
    " # 74: Swap its byte order conditionally based on system endianness using newbyteorder()\n",
    " \n",
    " \n",
    "import numpy as np\n",
    "\n",
    "arr = np.array([1, 256, 65536], dtype=np.int32)\n",
    "if arr.dtype.byteorder == '=':  # Native byte order\n",
    "    swapped_arr = arr.byteswap().newbyteorder()\n",
    "else:\n",
    "    swapped_arr = arr\n",
    "\n",
    "print(\"Original array:\", arr)\n",
    "print(\"Conditionally byte-swapped array:\", swapped_arr)"
   ]
  },
  {
   "cell_type": "code",
   "execution_count": 71,
   "id": "26fae5d1-589f-4d0d-bba6-23a00d0125d8",
   "metadata": {},
   "outputs": [
    {
     "name": "stdout",
     "output_type": "stream",
     "text": [
      "Byte order of the array: =\n"
     ]
    }
   ],
   "source": [
    " # 75: Check if byte swapping is necessary for the current system using dtype attribute byteorder\n",
    " \n",
    " \n",
    "import numpy as np\n",
    "\n",
    "arr = np.array([1, 256, 65536], dtype=np.int32)\n",
    "byte_order = arr.dtype.byteorder\n",
    "print(\"Byte order of the array:\", byte_order)"
   ]
  },
  {
   "cell_type": "code",
   "execution_count": 72,
   "id": "a3818615-b893-4eaa-9365-bc9be624bdc6",
   "metadata": {},
   "outputs": [
    {
     "name": "stdout",
     "output_type": "stream",
     "text": [
      "Original array: [ 1  2  3  4  5  6  7  8  9 10]\n",
      "Copied and modified array: [100   2   3   4   5   6   7   8   9  10]\n"
     ]
    }
   ],
   "source": [
    " # 76: Create a NumPy array arr1 and a copy of it. Modify an element in the copy and check if it affects arr1\n",
    " \n",
    " \n",
    "import numpy as np\n",
    "\n",
    "arr1 = np.array([1, 2, 3, 4, 5, 6, 7, 8, 9, 10])\n",
    "copy_arr = arr1.copy()\n",
    "copy_arr[0] = 100\n",
    "\n",
    "print(\"Original array:\", arr1)\n",
    "print(\"Copied and modified array:\", copy_arr)"
   ]
  },
  {
   "cell_type": "code",
   "execution_count": 73,
   "id": "fc0b2b96-a183-4640-a5e1-4eb2d7d7eb25",
   "metadata": {},
   "outputs": [
    {
     "name": "stdout",
     "output_type": "stream",
     "text": [
      "Original matrix:\n",
      " [[999  96  44]\n",
      " [ 92  31  67]\n",
      " [ 32  47  43]]\n",
      "View slice after modification:\n",
      " [[999  96]\n",
      " [ 92  31]]\n"
     ]
    }
   ],
   "source": [
    "# 77: Create a 2D NumPy array matrix, extract a slice, modify it, and observe changes in the original\n",
    " \n",
    " \n",
    "import numpy as np\n",
    "\n",
    "matrix = np.random.randint(1, 101, size=(3, 3))\n",
    "view_slice = matrix[:2, :2]\n",
    "view_slice[0, 0] = 999\n",
    "\n",
    "print(\"Original matrix:\\n\", matrix)\n",
    "print(\"View slice after modification:\\n\", view_slice)"
   ]
  },
  {
   "cell_type": "code",
   "execution_count": 74,
   "id": "c31b2e81-fad6-406d-80be-3c29fa4c08c6",
   "metadata": {},
   "outputs": [
    {
     "name": "stdout",
     "output_type": "stream",
     "text": [
      "Original array after broadcasting addition:\n",
      " [[ 6  7  8]\n",
      " [ 9 10 11]\n",
      " [ 7  8  9]\n",
      " [10 11 12]]\n"
     ]
    }
   ],
   "source": [
    " # 78: Create a NumPy array array_a, extract a slice, broadcast addition, and check if it alters the original\n",
    " \n",
    " \n",
    "import numpy as np\n",
    "\n",
    "array_a = np.arange(1, 13).reshape(4, 3)\n",
    "view_b = array_a[:2, :]\n",
    "\n",
    "view_b += 5\n",
    "\n",
    "print(\"Original array after broadcasting addition:\\n\", array_a)"
   ]
  },
  {
   "cell_type": "code",
   "execution_count": 75,
   "id": "1a014cd0-0127-4184-a499-9f9f201a82f8",
   "metadata": {},
   "outputs": [
    {
     "name": "stdout",
     "output_type": "stream",
     "text": [
      "Original array after modifying reshaped view:\n",
      " [[999   2   3   4]\n",
      " [  5   6   7   8]]\n",
      "Reshaped view after modification:\n",
      " [[999   2]\n",
      " [  3   4]\n",
      " [  5   6]\n",
      " [  7   8]]\n"
     ]
    }
   ],
   "source": [
    " # 79: Create a NumPy array orig_array, reshape it, modify an element in the reshaped view, and check changes\n",
    " \n",
    " \n",
    "import numpy as np\n",
    "\n",
    "orig_array = np.arange(1, 9).reshape(2, 4)\n",
    "reshaped_view = orig_array.reshape(4, 2)\n",
    "reshaped_view[0, 0] = 999\n",
    "\n",
    "print(\"Original array after modifying reshaped view:\\n\", orig_array)\n",
    "print(\"Reshaped view after modification:\\n\", reshaped_view)"
   ]
  },
  {
   "cell_type": "code",
   "execution_count": 76,
   "id": "58bf9099-2410-47c9-b3c9-8f8e13b7d0bc",
   "metadata": {},
   "outputs": [
    {
     "name": "stdout",
     "output_type": "stream",
     "text": [
      "Original data array:\n",
      " [[10  5  9  3]\n",
      " [ 6  4  3  4]\n",
      " [ 2 10  7  2]]\n",
      "Data copy after modification:\n",
      " [999   9   6  10   7]\n"
     ]
    }
   ],
   "source": [
    " # 80: Create a NumPy array data, extract a copy of elements greater than 5, modify it, and verify changes\n",
    " \n",
    " \n",
    "import numpy as np\n",
    "\n",
    "data = np.random.randint(1, 11, size=(3, 4))\n",
    "data_copy = data[data > 5].copy()\n",
    "data_copy[0] = 999\n",
    "\n",
    "print(\"Original data array:\\n\", data)\n",
    "print(\"Data copy after modification:\\n\", data_copy)"
   ]
  },
  {
   "cell_type": "code",
   "execution_count": 77,
   "id": "74578487-35dd-47be-9694-ebd7465c2617",
   "metadata": {},
   "outputs": [
    {
     "name": "stdout",
     "output_type": "stream",
     "text": [
      "Matrix A:\n",
      " [[1 2 3]\n",
      " [4 5 6]\n",
      " [7 8 9]]\n",
      "Matrix B:\n",
      " [[9 8 7]\n",
      " [6 5 4]\n",
      " [3 2 1]]\n",
      "Addition of A and B:\n",
      " [[10 10 10]\n",
      " [10 10 10]\n",
      " [10 10 10]]\n",
      "Subtraction of A and B:\n",
      " [[-8 -6 -4]\n",
      " [-2  0  2]\n",
      " [ 4  6  8]]\n"
     ]
    }
   ],
   "source": [
    "# 81: Create two matrices A and B of identical shape containing integers and perform addition and subtraction operations between them\n",
    " \n",
    " \n",
    "import numpy as np\n",
    "\n",
    "A = np.array([[1, 2, 3], [4, 5, 6], [7, 8, 9]])\n",
    "B = np.array([[9, 8, 7], [6, 5, 4], [3, 2, 1]])\n",
    "\n",
    "addition_result = A + B\n",
    "subtraction_result = A - B\n",
    "\n",
    "print(\"Matrix A:\\n\", A)\n",
    "print(\"Matrix B:\\n\", B)\n",
    "print(\"Addition of A and B:\\n\", addition_result)\n",
    "print(\"Subtraction of A and B:\\n\", subtraction_result)"
   ]
  },
  {
   "cell_type": "code",
   "execution_count": 78,
   "id": "9ec5110c-bdb7-4929-96ba-b91621e6787d",
   "metadata": {},
   "outputs": [
    {
     "name": "stdout",
     "output_type": "stream",
     "text": [
      "Matrix C:\n",
      " [[1 2]\n",
      " [3 4]\n",
      " [5 6]]\n",
      "Matrix D:\n",
      " [[ 7  8  9 10]\n",
      " [11 12 13 14]]\n",
      "Matrix multiplication of C and D:\n",
      " [[ 29  32  35  38]\n",
      " [ 65  72  79  86]\n",
      " [101 112 123 134]]\n"
     ]
    }
   ],
   "source": [
    "# 82: Generate two matrices C (3x2) and D (2x4) and perform matrix multiplication\n",
    " \n",
    " \n",
    "import numpy as np\n",
    "\n",
    "C = np.array([[1, 2], [3, 4], [5, 6]])\n",
    "D = np.array([[7, 8, 9, 10], [11, 12, 13, 14]])\n",
    "\n",
    "matrix_multiplication_result = np.dot(C, D)\n",
    "\n",
    "print(\"Matrix C:\\n\", C)\n",
    "print(\"Matrix D:\\n\", D)\n",
    "print(\"Matrix multiplication of C and D:\\n\", matrix_multiplication_result)"
   ]
  },
  {
   "cell_type": "code",
   "execution_count": 79,
   "id": "d84e1601-604e-47ad-8226-a2d52218b8ef",
   "metadata": {},
   "outputs": [
    {
     "name": "stdout",
     "output_type": "stream",
     "text": [
      "Matrix E:\n",
      " [[1 2 3]\n",
      " [4 5 6]\n",
      " [7 8 9]]\n",
      "Transpose of E:\n",
      " [[1 4 7]\n",
      " [2 5 8]\n",
      " [3 6 9]]\n"
     ]
    }
   ],
   "source": [
    " # 83: Create a matrix E and find its transpose\n",
    " \n",
    " \n",
    "import numpy as np\n",
    "\n",
    "E = np.array([[1, 2, 3], [4, 5, 6], [7, 8, 9]])\n",
    "transpose_E = np.transpose(E)\n",
    "\n",
    "print(\"Matrix E:\\n\", E)\n",
    "print(\"Transpose of E:\\n\", transpose_E)"
   ]
  },
  {
   "cell_type": "code",
   "execution_count": 80,
   "id": "802dd65b-bbb1-4182-a1af-72d46971548a",
   "metadata": {},
   "outputs": [
    {
     "name": "stdout",
     "output_type": "stream",
     "text": [
      "Matrix F:\n",
      " [[1 2 3]\n",
      " [0 1 4]\n",
      " [5 6 0]]\n",
      "Determinant of F: 0.9999999999999964\n"
     ]
    }
   ],
   "source": [
    "# 84: Generate a square matrix F and compute its determinant\n",
    " \n",
    " \n",
    "import numpy as np\n",
    "\n",
    "F = np.array([[1, 2, 3], [0, 1, 4], [5, 6, 0]])\n",
    "determinant_F = np.linalg.det(F)\n",
    "\n",
    "print(\"Matrix F:\\n\", F)\n",
    "print(\"Determinant of F:\", determinant_F)"
   ]
  },
  {
   "cell_type": "code",
   "execution_count": 81,
   "id": "551e6093-f112-4aeb-859f-346ecb5627a0",
   "metadata": {},
   "outputs": [
    {
     "name": "stdout",
     "output_type": "stream",
     "text": [
      "Matrix G:\n",
      " [[4 7]\n",
      " [2 6]]\n",
      "Inverse of G:\n",
      " [[ 0.6 -0.7]\n",
      " [-0.2  0.4]]\n"
     ]
    }
   ],
   "source": [
    " # 85: Create a square matrix G and find its inverse\n",
    " \n",
    " \n",
    "import numpy as np\n",
    "\n",
    "G = np.array([[4, 7], [2, 6]])\n",
    "inverse_G = np.linalg.inv(G)\n",
    "\n",
    "print(\"Matrix G:\\n\", G)\n",
    "print(\"Inverse of G:\\n\", inverse_G)"
   ]
  },
  {
   "cell_type": "code",
   "execution_count": null,
   "id": "f3073ffc-2bd8-404e-9242-2049dbdbfd59",
   "metadata": {},
   "outputs": [],
   "source": []
  }
 ],
 "metadata": {
  "kernelspec": {
   "display_name": "Python 3 (ipykernel)",
   "language": "python",
   "name": "python3"
  },
  "language_info": {
   "codemirror_mode": {
    "name": "ipython",
    "version": 3
   },
   "file_extension": ".py",
   "mimetype": "text/x-python",
   "name": "python",
   "nbconvert_exporter": "python",
   "pygments_lexer": "ipython3",
   "version": "3.10.8"
  }
 },
 "nbformat": 4,
 "nbformat_minor": 5
}
