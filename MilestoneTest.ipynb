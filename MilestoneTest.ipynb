{
 "cells": [
  {
   "cell_type": "code",
   "execution_count": 1,
   "id": "45b60017-2edb-4820-9516-a4a0cf7fe31d",
   "metadata": {},
   "outputs": [
    {
     "name": "stdin",
     "output_type": "stream",
     "text": [
      "Enter the traffic signal color (RED/YELLOW/GREEN):  red\n"
     ]
    },
    {
     "name": "stdout",
     "output_type": "stream",
     "text": [
      "Stop\n"
     ]
    }
   ],
   "source": [
    "# Question 1.6: Display Appropriate Message for Traffic Signal\n",
    "\n",
    "signal = input(\"Enter the traffic signal color (RED/YELLOW/GREEN): \").upper()\n",
    "\n",
    "if signal == \"RED\":\n",
    "    print(\"Stop\")\n",
    "elif signal == \"YELLOW\":\n",
    "    print(\"Stay\")\n",
    "elif signal == \"GREEN\":\n",
    "    print(\"Go\")\n",
    "else:\n",
    "    print(\"Invalid signal color\")"
   ]
  },
  {
   "cell_type": "code",
   "execution_count": 3,
   "id": "3294b00e-d578-4e51-91fa-84fc1f905bb6",
   "metadata": {},
   "outputs": [
    {
     "name": "stdin",
     "output_type": "stream",
     "text": [
      "Enter the first number:  7\n",
      "Enter the second number:  8\n",
      "Enter the operation (+, -, *, /):  +\n"
     ]
    },
    {
     "name": "stdout",
     "output_type": "stream",
     "text": [
      "Result: 15.0\n"
     ]
    }
   ],
   "source": [
    "# Question 1.7: Simple Calculator\n",
    "\n",
    "def calculator(a, b, operation):\n",
    "    if operation == \"+\":\n",
    "        return a + b\n",
    "    elif operation == \"-\":\n",
    "        return a - b\n",
    "    elif operation == \"*\":\n",
    "        return a * b\n",
    "    elif operation == \"/\":\n",
    "        return a / b\n",
    "    else:\n",
    "        return \"Invalid operation\"\n",
    "\n",
    "a = float(input(\"Enter the first number: \"))\n",
    "b = float(input(\"Enter the second number: \"))\n",
    "operation = input(\"Enter the operation (+, -, *, /): \")\n",
    "print(\"Result:\", calculator(a, b, operation))"
   ]
  },
  {
   "cell_type": "code",
   "execution_count": 4,
   "id": "f6a1103a-3d09-4cc5-8885-d4e5f53d34be",
   "metadata": {},
   "outputs": [
    {
     "name": "stdin",
     "output_type": "stream",
     "text": [
      "Enter first number:  8\n",
      "Enter second number:  9\n",
      "Enter third number:  -0\n"
     ]
    },
    {
     "name": "stdout",
     "output_type": "stream",
     "text": [
      "The largest number is: 9.0\n"
     ]
    }
   ],
   "source": [
    "#Question 1.8: Find the Largest of Three Numbers Using Ternary Operator\n",
    "\n",
    "a = float(input(\"Enter first number: \"))\n",
    "b = float(input(\"Enter second number: \"))\n",
    "c = float(input(\"Enter third number: \"))\n",
    "\n",
    "largest = a if (a > b and a > c) else (b if b > c else c)\n",
    "print(\"The largest number is:\", largest)\n"
   ]
  },
  {
   "cell_type": "code",
   "execution_count": 5,
   "id": "a0432202-1a88-4e54-9795-6f9481103bce",
   "metadata": {},
   "outputs": [
    {
     "name": "stdin",
     "output_type": "stream",
     "text": [
      "Enter a number:  8\n"
     ]
    },
    {
     "name": "stdout",
     "output_type": "stream",
     "text": [
      "Factors of 8 are: [1, 2, 4, 8]\n"
     ]
    }
   ],
   "source": [
    "#Question 1.9: Find Factors of a Whole Number Using While Loop\n",
    "\n",
    "num = int(input(\"Enter a number: \"))\n",
    "i = 1\n",
    "factors = []\n",
    "\n",
    "while i <= num:\n",
    "    if num % i == 0:\n",
    "        factors.append(i)\n",
    "    i += 1\n",
    "\n",
    "print(\"Factors of\", num, \"are:\", factors)"
   ]
  },
  {
   "cell_type": "code",
   "execution_count": 6,
   "id": "617d6313-117c-477e-8be4-0a088e2569d9",
   "metadata": {},
   "outputs": [
    {
     "name": "stdin",
     "output_type": "stream",
     "text": [
      "Enter a number:  90\n",
      "Enter a number:  5\n",
      "Enter a number:  -1\n"
     ]
    },
    {
     "name": "stdout",
     "output_type": "stream",
     "text": [
      "The sum of all positive numbers entered is: 95\n"
     ]
    }
   ],
   "source": [
    "# Question 1.10: Sum of Positive Numbers Until Negative Number is Entered\n",
    "\n",
    "sum = 0\n",
    "\n",
    "while True:\n",
    "    num = int(input(\"Enter a number: \"))\n",
    "    if num < 0:\n",
    "        break\n",
    "    sum += num\n",
    "\n",
    "print(\"The sum of all positive numbers entered is:\", sum)\n"
   ]
  },
  {
   "cell_type": "code",
   "execution_count": 7,
   "id": "ce495a4e-6104-4e77-a076-2ea56659c81f",
   "metadata": {},
   "outputs": [
    {
     "name": "stdout",
     "output_type": "stream",
     "text": [
      "2 3 5 7 11 13 17 19 23 29 31 37 41 43 47 53 59 61 67 71 73 79 83 89 97 "
     ]
    }
   ],
   "source": [
    "#Question 1.11: Find Prime Numbers Between 2 to 100 Using Nested For Loops\n",
    "\n",
    "for num in range(2, 101):\n",
    "    is_prime = True\n",
    "    for i in range(2, int(num ** 0.5) + 1):\n",
    "        if num % i == 0:\n",
    "            is_prime = False\n",
    "            break\n",
    "    if is_prime:\n",
    "        print(num, end=\" \")\n"
   ]
  },
  {
   "cell_type": "code",
   "execution_count": 8,
   "id": "8e0992e4-9df1-4ea7-a8c1-4f776ba34186",
   "metadata": {},
   "outputs": [
    {
     "name": "stdout",
     "output_type": "stream",
     "text": [
      "2 3 5 7 11 13 17 19 23 29 31 37 41 43 47 53 59 61 67 71 73 79 83 89 97 "
     ]
    }
   ],
   "source": [
    "# write a program to fing prime numbebrs between two to  100 using nested for loops\n",
    "\n",
    "for num in range(2, 101):\n",
    "    is_prime = True\n",
    "    for i in range(2, num):\n",
    "        if num % i == 0:\n",
    "            is_prime = False\n",
    "            break\n",
    "    if is_prime:\n",
    "        print(num, end=\" \")\n"
   ]
  },
  {
   "cell_type": "code",
   "execution_count": null,
   "id": "94ef7f78-da86-4f82-a9f6-c9323a183cf3",
   "metadata": {},
   "outputs": [
    {
     "name": "stdout",
     "output_type": "stream",
     "text": [
      "Enter marks for the following subjects:\n"
     ]
    },
    {
     "name": "stdin",
     "output_type": "stream",
     "text": [
      "Math:  89\n",
      "Physics:  4\n",
      "Chemistry:  5\n",
      "Biology:  3\n",
      "Computer Science:  78\n"
     ]
    },
    {
     "name": "stdout",
     "output_type": "stream",
     "text": [
      "\n",
      "Marks entered:\n",
      "Math: 89\n",
      "Physics: 4\n",
      "Chemistry: 5\n",
      "Biology: 3\n",
      "Computer Science: 78\n"
     ]
    }
   ],
   "source": [
    "# Part 1: Accept marks and display them\n",
    "subjects = ['Math', 'Physics', 'Chemistry', 'Biology', 'Computer Science']\n",
    "marks = []\n",
    "\n",
    "print(\"Enter marks for the following subjects:\")\n",
    "for subject in subjects:\n",
    "    mark = int(input(f\"{subject}: \"))\n",
    "    marks.append(mark)\n",
    "\n",
    "print(\"\\nMarks entered:\")\n",
    "for subject, mark in zip(subjects, marks):\n",
    "    print(f\"{subject}: {mark}\")\n",
    "\n"
   ]
  },
  {
   "cell_type": "code",
   "execution_count": 13,
   "id": "05414114-069a-4db6-a290-79e29b61b323",
   "metadata": {},
   "outputs": [
    {
     "ename": "TypeError",
     "evalue": "'int' object is not callable",
     "output_type": "error",
     "traceback": [
      "\u001b[0;31m---------------------------------------------------------------------------\u001b[0m",
      "\u001b[0;31mTypeError\u001b[0m                                 Traceback (most recent call last)",
      "Cell \u001b[0;32mIn[13], line 2\u001b[0m\n\u001b[1;32m      1\u001b[0m \u001b[38;5;66;03m# Part 2: Calculate sum, percentage, and display them\u001b[39;00m\n\u001b[0;32m----> 2\u001b[0m total_marks \u001b[38;5;241m=\u001b[39m \u001b[38;5;28;43msum\u001b[39;49m\u001b[43m(\u001b[49m\u001b[43mmarks\u001b[49m\u001b[43m)\u001b[49m\n\u001b[1;32m      3\u001b[0m percentage \u001b[38;5;241m=\u001b[39m total_marks \u001b[38;5;241m/\u001b[39m \u001b[38;5;28mlen\u001b[39m(subjects)\n\u001b[1;32m      5\u001b[0m \u001b[38;5;28mprint\u001b[39m(\u001b[38;5;124mf\u001b[39m\u001b[38;5;124m\"\u001b[39m\u001b[38;5;130;01m\\n\u001b[39;00m\u001b[38;5;124mTotal Marks: \u001b[39m\u001b[38;5;132;01m{\u001b[39;00mtotal_marks\u001b[38;5;132;01m}\u001b[39;00m\u001b[38;5;124m\"\u001b[39m)\n",
      "\u001b[0;31mTypeError\u001b[0m: 'int' object is not callable"
     ]
    }
   ],
   "source": [
    "# Part 2: Calculate sum, percentage, and display them\n",
    "total_marks = sum(marks)\n",
    "percentage = total_marks / len(subjects)\n",
    "\n",
    "print(f\"\\nTotal Marks: {total_marks}\")\n",
    "print(f\"Percentage: {percentage:.2f}%\")\n",
    "\n",
    "# Part 3: Determine and display the grade\n",
    "if percentage > 85:\n",
    "    grade = 'A'\n",
    "elif 75 <= percentage <= 85:\n",
    "    grade = 'B'\n",
    "elif 50 <= percentage < 75:\n",
    "    grade = 'C'\n",
    "elif 30 <= percentage < 50:\n",
    "    grade = 'D'\n",
    "else:\n",
    "    grade = 'Reappear'\n",
    "\n",
    "print(f\"Grade: {grade}\")\n"
   ]
  },
  {
   "cell_type": "code",
   "execution_count": 12,
   "id": "6191c304-9ed5-4e57-8a4d-2e3356fbc18d",
   "metadata": {},
   "outputs": [
    {
     "ename": "NameError",
     "evalue": "name 'percentage' is not defined",
     "output_type": "error",
     "traceback": [
      "\u001b[0;31m---------------------------------------------------------------------------\u001b[0m",
      "\u001b[0;31mNameError\u001b[0m                                 Traceback (most recent call last)",
      "Cell \u001b[0;32mIn[12], line 2\u001b[0m\n\u001b[1;32m      1\u001b[0m \u001b[38;5;66;03m# Part 3: Determine and display the grade\u001b[39;00m\n\u001b[0;32m----> 2\u001b[0m \u001b[38;5;28;01mif\u001b[39;00m \u001b[43mpercentage\u001b[49m \u001b[38;5;241m>\u001b[39m \u001b[38;5;241m85\u001b[39m:\n\u001b[1;32m      3\u001b[0m     grade \u001b[38;5;241m=\u001b[39m \u001b[38;5;124m'\u001b[39m\u001b[38;5;124mA\u001b[39m\u001b[38;5;124m'\u001b[39m\n\u001b[1;32m      4\u001b[0m \u001b[38;5;28;01melif\u001b[39;00m \u001b[38;5;241m75\u001b[39m \u001b[38;5;241m<\u001b[39m\u001b[38;5;241m=\u001b[39m percentage \u001b[38;5;241m<\u001b[39m\u001b[38;5;241m=\u001b[39m \u001b[38;5;241m85\u001b[39m:\n",
      "\u001b[0;31mNameError\u001b[0m: name 'percentage' is not defined"
     ]
    }
   ],
   "source": [
    "# Part 3: Determine and display the grade\n",
    "if percentage > 85:\n",
    "    grade = 'A'\n",
    "elif 75 <= percentage <= 85:\n",
    "    grade = 'B'\n",
    "elif 50 <= percentage < 75:\n",
    "    grade = 'C'\n",
    "elif 30 <= percentage < 50:\n",
    "    grade = 'D'\n",
    "else:\n",
    "    grade = 'Reappear'\n",
    "\n",
    "print(f\"Grade: {grade}\")"
   ]
  },
  {
   "cell_type": "code",
   "execution_count": 14,
   "id": "763a897e-85bf-4fa7-8fa7-c2dc0cf69c41",
   "metadata": {},
   "outputs": [
    {
     "name": "stdin",
     "output_type": "stream",
     "text": [
      "Enter the wavelength in nm:  90\n"
     ]
    },
    {
     "name": "stdout",
     "output_type": "stream",
     "text": [
      "The color for wavelength 90.0 nm is Wavelength not in VIBGYOR range.\n"
     ]
    }
   ],
   "source": [
    "# Task 1: Write a program for VIBGYOR Spectrum based on their Wavelength\n",
    "\n",
    "def get_vibgyor_color(wavelength):\n",
    "    if 400.0 <= wavelength < 440.0:\n",
    "        return \"Violet\"\n",
    "    elif 440.0 <= wavelength < 460.0:\n",
    "        return \"Indigo\"\n",
    "    elif 460.0 <= wavelength < 500.0:\n",
    "        return \"Blue\"\n",
    "    elif 500.0 <= wavelength < 570.0:\n",
    "        return \"Green\"\n",
    "    elif 570.0 <= wavelength < 590.0:\n",
    "        return \"Yellow\"\n",
    "    elif 590.0 <= wavelength < 620.0:\n",
    "        return \"Orange\"\n",
    "    elif 620.0 <= wavelength < 720.0:\n",
    "        return \"Red\"\n",
    "    else:\n",
    "        return \"Wavelength not in VIBGYOR range\"\n",
    "\n",
    "# Example usage\n",
    "wavelength = float(input(\"Enter the wavelength in nm: \"))\n",
    "color = get_vibgyor_color(wavelength)\n",
    "print(f\"The color for wavelength {wavelength} nm is {color}.\")"
   ]
  },
  {
   "cell_type": "code",
   "execution_count": 15,
   "id": "0948e1a4-793c-49fc-9009-b24ac82f6c14",
   "metadata": {},
   "outputs": [
    {
     "name": "stdout",
     "output_type": "stream",
     "text": [
      "Gravitational force between Earth and Sun: 3.54e+22 N\n",
      "Gravitational force between Moon and Earth: 1.98e+20 N\n",
      "The stronger gravitational force is: Earth-Sun\n",
      "The Earth is more strongly attracted to the Sun.\n"
     ]
    }
   ],
   "source": [
    "# Task 2: Gravitational Forces\n",
    "def calculate_gravitational_force(m1, m2, r):\n",
    "    G = 6.67430e-11  # gravitational constant in m^3 kg^-1 s^-2\n",
    "    return G * (m1 * m2) / (r ** 2)\n",
    "\n",
    "# Given values\n",
    "mass_earth = 5.972e24\n",
    "mass_moon = 7.34767309e22\n",
    "mass_sun = 1.989e30\n",
    "distance_earth_sun = 1.496e11\n",
    "distance_moon_earth = 3.844e8\n",
    "\n",
    "# Calculate gravitational forces\n",
    "force_earth_sun = calculate_gravitational_force(mass_earth, mass_sun, distance_earth_sun)\n",
    "force_moon_earth = calculate_gravitational_force(mass_moon, mass_earth, distance_moon_earth)\n",
    "\n",
    "# Compare the forces\n",
    "stronger_force = \"Earth-Sun\" if force_earth_sun > force_moon_earth else \"Moon-Earth\"\n",
    "\n",
    "# Print the results\n",
    "print(f\"Gravitational force between Earth and Sun: {force_earth_sun:.2e} N\")\n",
    "print(f\"Gravitational force between Moon and Earth: {force_moon_earth:.2e} N\")\n",
    "print(f\"The stronger gravitational force is: {stronger_force}\")\n",
    "\n",
    "# Explain which celestial body is more attracted\n",
    "if force_earth_sun > force_moon_earth:\n",
    "    print(\"The Earth is more strongly attracted to the Sun.\")\n",
    "else:\n",
    "    print(\"The Moon is more strongly attracted to the Earth.\")\n"
   ]
  },
  {
   "cell_type": "code",
   "execution_count": 16,
   "id": "2edc2f58-57b7-43b9-8297-000dfd02ad03",
   "metadata": {},
   "outputs": [
    {
     "name": "stdout",
     "output_type": "stream",
     "text": [
      "Name: Alice, Age: 20, Roll Number: A001\n",
      "Name: Alice, Age: 21, Roll Number: A001\n"
     ]
    }
   ],
   "source": [
    "# Task : Student Class\n",
    "# Define the Student class with encapsulated attributes, getter and setter methods, display, and update methods.\n",
    "\n",
    "class Student:\n",
    "    def __init__(self, name, age, roll_number):\n",
    "        self.__name = name\n",
    "        self.__age = age\n",
    "        self.__roll_number = roll_number\n",
    "    \n",
    "    # Getter methods\n",
    "    def get_name(self):\n",
    "        return self.__name\n",
    "    \n",
    "    def get_age(self):\n",
    "        return self.__age\n",
    "    \n",
    "    def get_roll_number(self):\n",
    "        return self.__roll_number\n",
    "    \n",
    "    # Setter methods\n",
    "    def set_name(self, name):\n",
    "        self.__name = name\n",
    "    \n",
    "    def set_age(self, age):\n",
    "        self.__age = age\n",
    "    \n",
    "    def set_roll_number(self, roll_number):\n",
    "        self.__roll_number = roll_number\n",
    "    \n",
    "    # Method to display student information\n",
    "    def display_info(self):\n",
    "        print(f\"Name: {self.__name}, Age: {self.__age}, Roll Number: {self.__roll_number}\")\n",
    "    \n",
    "    # Method to update student details\n",
    "    def update_info(self, name=None, age=None, roll_number=None):\n",
    "        if name is not None:\n",
    "            self.set_name(name)\n",
    "        if age is not None:\n",
    "            self.set_age(age)\n",
    "        if roll_number is not None:\n",
    "            self.set_roll_number(roll_number)\n",
    "\n",
    "# Testing the Student class\n",
    "student1 = Student(\"Alice\", 20, \"A001\")\n",
    "student1.display_info()\n",
    "student1.update_info(age=21)\n",
    "student1.display_info()\n"
   ]
  },
  {
   "cell_type": "code",
   "execution_count": 17,
   "id": "e20f592f-71ec-4ce1-be36-6c3678793e06",
   "metadata": {},
   "outputs": [
    {
     "name": "stdout",
     "output_type": "stream",
     "text": [
      "Book Name: Python Programming, Author: John Doe, Status: Available\n",
      "You have borrowed 'Python Programming'.\n",
      "Book Name: Python Programming, Author: John Doe, Status: Not Available\n",
      "You have returned 'Python Programming'.\n",
      "Book Name: Python Programming, Author: John Doe, Status: Available\n"
     ]
    }
   ],
   "source": [
    "# Task 3: LibraryBook Class\n",
    "# Define the LibraryBook class with encapsulated attributes and methods for borrowing and returning books.\n",
    "\n",
    "class LibraryBook:\n",
    "    def __init__(self, book_name, author):\n",
    "        self.__book_name = book_name\n",
    "        self.__author = author\n",
    "        self.__available = True\n",
    "    \n",
    "    # Getter methods\n",
    "    def get_book_name(self):\n",
    "        return self.__book_name\n",
    "    \n",
    "    def get_author(self):\n",
    "        return self.__author\n",
    "    \n",
    "    def is_available(self):\n",
    "        return self.__available\n",
    "    \n",
    "    # Method to borrow a book\n",
    "    def borrow(self):\n",
    "        if self.__available:\n",
    "            self.__available = False\n",
    "            print(f\"You have borrowed '{self.__book_name}'.\")\n",
    "        else:\n",
    "            print(f\"'{self.__book_name}' is currently not available.\")\n",
    "    \n",
    "    # Method to return a book\n",
    "    def return_book(self):\n",
    "        if not self.__available:\n",
    "            self.__available = True\n",
    "            print(f\"You have returned '{self.__book_name}'.\")\n",
    "        else:\n",
    "            print(f\"'{self.__book_name}' was not borrowed.\")\n",
    "    \n",
    "    # Method to display book info\n",
    "    def display_info(self):\n",
    "        status = \"Available\" if self.__available else \"Not Available\"\n",
    "        print(f\"Book Name: {self.__book_name}, Author: {self.__author}, Status: {status}\")\n",
    "\n",
    "# Testing the LibraryBook class\n",
    "book1 = LibraryBook(\"Python Programming\", \"John Doe\")\n",
    "book1.display_info()\n",
    "book1.borrow()\n",
    "book1.display_info()\n",
    "book1.return_book()\n",
    "book1.display_info()\n"
   ]
  },
  {
   "cell_type": "code",
   "execution_count": 19,
   "id": "55a3164f-f536-4089-a16e-7eb8d31ea9e9",
   "metadata": {},
   "outputs": [
    {
     "name": "stdout",
     "output_type": "stream",
     "text": [
      "Account Number: S123, Balance: 1000\n",
      "Deposited: 20.0\n",
      "Interest added: 20.0\n",
      "Account Number: S123, Balance: 1020.0\n",
      "Deposited: 500\n",
      "Withdrew: 200\n",
      "Account Number: S123, Balance: 1320.0\n",
      "Account Number: C456, Balance: 2000\n",
      "Deposited: 300\n",
      "Withdrew: 1000\n",
      "Account Number: C456, Balance: 1300\n"
     ]
    }
   ],
   "source": [
    "# Task : Banking System\n",
    "# Define the base and subclass for different types of bank accounts.\n",
    "\n",
    "\n",
    "class BankAccount:\n",
    "    def __init__(self, account_number, balance=0):\n",
    "        self.__account_number = account_number\n",
    "        self.__balance = balance\n",
    "    \n",
    "    def deposit(self, amount):\n",
    "        if amount > 0:\n",
    "            self.__balance += amount\n",
    "            print(f\"Deposited: {amount}\")\n",
    "        else:\n",
    "            print(\"Invalid deposit amount\")\n",
    "    \n",
    "    def withdraw(self, amount):\n",
    "        if 0 < amount <= self.__balance:\n",
    "            self.__balance -= amount\n",
    "            print(f\"Withdrew: {amount}\")\n",
    "        else:\n",
    "            print(\"Invalid withdraw amount\")\n",
    "    \n",
    "    def get_balance(self):\n",
    "        return self.__balance\n",
    "    \n",
    "    def display_info(self):\n",
    "        print(f\"Account Number: {self.__account_number}, Balance: {self.__balance}\")\n",
    "\n",
    "class SavingsAccount(BankAccount):\n",
    "    def __init__(self, account_number, balance=0, interest_rate=0.02):\n",
    "        super().__init__(account_number, balance)\n",
    "        self.__interest_rate = interest_rate\n",
    "    \n",
    "    def add_interest(self):\n",
    "        interest = self.get_balance() * self.__interest_rate\n",
    "        self.deposit(interest)\n",
    "        print(f\"Interest added: {interest}\")\n",
    "\n",
    "class CheckingAccount(BankAccount):\n",
    "    def __init__(self, account_number, balance=0):\n",
    "        super().__init__(account_number, balance)\n",
    "\n",
    "# Testing the Banking system\n",
    "savings = SavingsAccount(\"S123\", 1000)\n",
    "savings.display_info()\n",
    "savings.add_interest()\n",
    "savings.display_info()\n",
    "savings.deposit(500)\n",
    "savings.withdraw(200)\n",
    "savings.display_info()\n",
    "\n",
    "checking = CheckingAccount(\"C456\", 2000)\n",
    "checking.display_info()\n",
    "checking.deposit(300)\n",
    "checking.withdraw(1000)\n",
    "checking.display_info()"
   ]
  },
  {
   "cell_type": "code",
   "execution_count": 20,
   "id": "155214af-6a43-4d9c-8b82-4f1f79b44b4b",
   "metadata": {},
   "outputs": [
    {
     "name": "stdout",
     "output_type": "stream",
     "text": [
      "Dog sound: Woof\n",
      "Cat sound: Meow\n"
     ]
    }
   ],
   "source": [
    "# Task 5: Animal Sounds\n",
    "# Define the base Animal class and subclasses for Dog and Cat.\n",
    "\n",
    "\n",
    "class Animal:\n",
    "    def make_sound(self):\n",
    "        pass\n",
    "\n",
    "class Dog(Animal):\n",
    "    def make_sound(self):\n",
    "        return \"Woof\"\n",
    "\n",
    "class Cat(Animal):\n",
    "    def make_sound(self):\n",
    "        return \"Meow\"\n",
    "\n",
    "# Testing the Animal sound classes\n",
    "dog = Dog()\n",
    "cat = Cat()\n",
    "print(f\"Dog sound: {dog.make_sound()}\")\n",
    "print(f\"Cat sound: {cat.make_sound()}\")"
   ]
  },
  {
   "cell_type": "code",
   "execution_count": 21,
   "id": "ac438286-b7d8-4a46-a5de-ab9af2dc1b50",
   "metadata": {},
   "outputs": [],
   "source": [
    "#1. Restaurant Management System\n",
    "\n",
    "class MenuItem:\n",
    "    def __init__(self, name, description, price, category):\n",
    "        self.__id = id(self)  # Private unique ID\n",
    "        self.name = name\n",
    "        self.description = description\n",
    "        self.price = price\n",
    "        self.category = category\n",
    "\n",
    "    def update_item(self, name=None, description=None, price=None, category=None):\n",
    "        if name:\n",
    "            self.name = name\n",
    "        if description:\n",
    "            self.description = description\n",
    "        if price:\n",
    "            self.price = price\n",
    "        if category:\n",
    "            self.category = category\n",
    "\n",
    "    def remove_item(self):\n",
    "        del self\n",
    "\n",
    "class FoodItem(MenuItem):\n",
    "    def __init__(self, name, description, price, category, cuisine_type):\n",
    "        super().__init__(name, description, price, category)\n",
    "        self.cuisine_type = cuisine_type\n",
    "\n",
    "class BeverageItem(MenuItem):\n",
    "    def __init__(self, name, description, price, category, is_alcoholic):\n",
    "        super().__init__(name, description, price, category)\n",
    "        self.is_alcoholic = is_alcoholic"
   ]
  },
  {
   "cell_type": "code",
   "execution_count": 22,
   "id": "781d543d-d6af-48c7-9586-a22e0f9e7a90",
   "metadata": {},
   "outputs": [],
   "source": [
    "# Hotel Management System\n",
    "\n",
    "class Room:\n",
    "    def __init__(self, room_number, room_type, rate):\n",
    "        self.__room_number = room_number  # Private unique ID\n",
    "        self.room_type = room_type\n",
    "        self.rate = rate\n",
    "        self.__availability = True\n",
    "\n",
    "    def book_room(self):\n",
    "        if self.__availability:\n",
    "            self.__availability = False\n",
    "            return True\n",
    "        return False\n",
    "\n",
    "    def check_in(self):\n",
    "        if not self.__availability:\n",
    "            return \"Checked in\"\n",
    "        return \"Room not booked\"\n",
    "\n",
    "    def check_out(self):\n",
    "        if not self.__availability:\n",
    "            self.__availability = True\n",
    "            return \"Checked out\"\n",
    "        return \"Room not occupied\"\n",
    "\n",
    "class SuiteRoom(Room):\n",
    "    def __init__(self, room_number, rate, has_jacuzzi):\n",
    "        super().__init__(room_number, \"Suite\", rate)\n",
    "        self.has_jacuzzi = has_jacuzzi\n",
    "\n",
    "class StandardRoom(Room):\n",
    "    def __init__(self, room_number, rate):\n",
    "        super().__init__(room_number, \"Standard\", rate)"
   ]
  },
  {
   "cell_type": "code",
   "execution_count": 23,
   "id": "062ceb21-bf78-4d72-9ecf-9dd75a10b14a",
   "metadata": {},
   "outputs": [],
   "source": [
    "#3. Fitness Club Management System\n",
    "\n",
    "class Member:\n",
    "    def __init__(self, name, age, membership_type):\n",
    "        self.__id = id(self)  # Private unique ID\n",
    "        self.name = name\n",
    "        self.age = age\n",
    "        self.membership_type = membership_type\n",
    "        self.__membership_status = \"Active\"\n",
    "\n",
    "    def register_member(self):\n",
    "        self.__membership_status = \"Active\"\n",
    "\n",
    "    def renew_membership(self):\n",
    "        if self.__membership_status == \"Inactive\":\n",
    "            self.__membership_status = \"Active\"\n",
    "\n",
    "    def cancel_membership(self):\n",
    "        self.__membership_status = \"Inactive\"\n",
    "\n",
    "class FamilyMember(Member):\n",
    "    def __init__(self, name, age, membership_type, family_size):\n",
    "        super().__init__(name, age, membership_type)\n",
    "        self.family_size = family_size\n",
    "\n",
    "class IndividualMember(Member):\n",
    "    def __init__(self, name, age, membership_type, personal_trainer=False):\n",
    "        super().__init__(name, age, membership_type)\n",
    "        self.personal_trainer = personal_trainer"
   ]
  },
  {
   "cell_type": "code",
   "execution_count": 24,
   "id": "984abfe0-1d51-4f68-aec0-cbd5165fa395",
   "metadata": {},
   "outputs": [],
   "source": [
    "#4. Event Management System\n",
    "\n",
    "class Event:\n",
    "    def __init__(self, name, date, time, location):\n",
    "        self.__id = id(self)  # Private unique ID\n",
    "        self.name = name\n",
    "        self.date = date\n",
    "        self.time = time\n",
    "        self.location = location\n",
    "        self.__attendees = []\n",
    "\n",
    "    def create_event(self, name, date, time, location):\n",
    "        self.name = name\n",
    "        self.date = date\n",
    "        self.time = time\n",
    "        self.location = location\n",
    "\n",
    "    def add_attendee(self, attendee):\n",
    "        self.__attendees.append(attendee)\n",
    "\n",
    "    def remove_attendee(self, attendee):\n",
    "        if attendee in self.__attendees:\n",
    "            self.__attendees.remove(attendee)\n",
    "\n",
    "    def get_total_attendees(self):\n",
    "        return len(self.__attendees)\n",
    "\n",
    "class PrivateEvent(Event):\n",
    "    def __init__(self, name, date, time, location, invite_only):\n",
    "        super().__init__(name, date, time, location)\n",
    "        self.invite_only = invite_only\n",
    "\n",
    "class PublicEvent(Event):\n",
    "    def __init__(self, name, date, time, location, is_free):\n",
    "        super().__init__(name, date, time, location)\n",
    "        self.is_free = is_free"
   ]
  },
  {
   "cell_type": "code",
   "execution_count": 25,
   "id": "cd893cee-7168-4e28-afd1-23ab04799545",
   "metadata": {},
   "outputs": [],
   "source": [
    "#5. Airline Reservation System\n",
    "\n",
    "class Flight:\n",
    "    def __init__(self, flight_number, departure_airport, arrival_airport, departure_time, arrival_time, available_seats):\n",
    "        self.__flight_number = flight_number  # Private unique ID\n",
    "        self.departure_airport = departure_airport\n",
    "        self.arrival_airport = arrival_airport\n",
    "        self.departure_time = departure_time\n",
    "        self.arrival_time = arrival_time\n",
    "        self.__available_seats = available_seats\n",
    "\n",
    "    def book_seat(self):\n",
    "        if self.__available_seats > 0:\n",
    "            self.__available_seats -= 1\n",
    "            return True\n",
    "        return False\n",
    "\n",
    "    def cancel_reservation(self):\n",
    "        self.__available_seats += 1\n",
    "\n",
    "    def get_remaining_seats(self):\n",
    "        return self.__available_seats\n",
    "\n",
    "class DomesticFlight(Flight):\n",
    "    def __init__(self, flight_number, departure_airport, arrival_airport, departure_time, arrival_time, available_seats, state):\n",
    "        super().__init__(flight_number, departure_airport, arrival_airport, departure_time, arrival_time, available_seats)\n",
    "        self.state = state\n",
    "\n",
    "class InternationalFlight(Flight):\n",
    "    def __init__(self, flight_number, departure_airport, arrival_airport, departure_time, arrival_time, available_seats, country):\n",
    "        super().__init__(flight_number, departure_airport, arrival_airport, departure_time, arrival_time, available_seats)\n",
    "        self.country = country"
   ]
  },
  {
   "cell_type": "code",
   "execution_count": 26,
   "id": "8a501804-f15b-4575-87d0-73941c4a764a",
   "metadata": {},
   "outputs": [],
   "source": [
    "# 11. Define a Python module named constants.py\n",
    "\n",
    "# constants.py\n",
    "\n",
    "PI = 3.141592653589793\n",
    "SPEED_OF_LIGHT = 299792458  # in meters per second"
   ]
  },
  {
   "cell_type": "code",
   "execution_count": 27,
   "id": "56e8a2a4-8dfe-4637-9621-1aefb7d3e977",
   "metadata": {},
   "outputs": [],
   "source": [
    "# 12. Write a Python module named calculator.py\n",
    "# Creating  a file named calculator.py with the following content:\n",
    "\n",
    "# calculator.py\n",
    "\n",
    "def add(a, b):\n",
    "    return a + b\n",
    "\n",
    "def subtract(a, b):\n",
    "    return a - b\n",
    "\n",
    "def multiply(a, b):\n",
    "    return a * b\n",
    "\n",
    "def divide(a, b):\n",
    "    if b == 0:\n",
    "        raise ValueError(\"Cannot divide by zero.\")\n",
    "    return a / b"
   ]
  },
  {
   "cell_type": "code",
   "execution_count": 31,
   "id": "4fb9465f-7134-4e92-912b-4118e9f2da29",
   "metadata": {},
   "outputs": [],
   "source": [
    "# 14. Implement a Python module named string_utils.py\n",
    "# Create a file named string_utils.py with the following content:\n",
    "\n",
    "# string_utils.py\n",
    "\n",
    "def reverse_string(s):\n",
    "    return s[::-1]\n",
    "\n",
    "def capitalize_string(s):\n",
    "    return s.upper()"
   ]
  },
  {
   "cell_type": "code",
   "execution_count": 32,
   "id": "2139220e-ac66-40b6-88fb-5c3ae03f4c3d",
   "metadata": {},
   "outputs": [],
   "source": [
    "# 15. Write a Python module named file_operations.py\n",
    "# Create a file named file_operations.py with the following content:\n",
    "\n",
    "# file_operations.py\n",
    "\n",
    "def read_file(filename):\n",
    "    with open(filename, 'r') as file:\n",
    "        return file.read()\n",
    "\n",
    "def write_file(filename, content):\n",
    "    with open(filename, 'w') as file:\n",
    "        file.write(content)\n",
    "\n",
    "def append_to_file(filename, content):\n",
    "    with open(filename, 'a') as file:\n",
    "        file.write(content)"
   ]
  },
  {
   "cell_type": "code",
   "execution_count": 33,
   "id": "0011c68b-3a4b-427c-899f-674bdb69af71",
   "metadata": {},
   "outputs": [],
   "source": [
    "#16. Write a Python program to create a text file named \"employees.txt\"\n",
    "\n",
    "# create_employees_file.py\n",
    "\n",
    "def create_employees_file():\n",
    "    with open('employees.txt', 'w') as file:\n",
    "        file.write(\"Name, Age, Salary\\n\")\n",
    "        file.write(\"Alice, 30, 70000\\n\")\n",
    "        file.write(\"Bob, 25, 50000\\n\")\n",
    "        file.write(\"Charlie, 35, 80000\\n\")\n",
    "\n",
    "create_employees_file()"
   ]
  },
  {
   "cell_type": "code",
   "execution_count": 34,
   "id": "e1c0007c-4cdd-47d1-8aff-1ada34acf3b5",
   "metadata": {},
   "outputs": [
    {
     "name": "stdout",
     "output_type": "stream",
     "text": [
      "File not found.\n"
     ]
    }
   ],
   "source": [
    "# 17. Develop a Python script that opens an existing text file named \"inventory.txt\" in read mode\n",
    "\n",
    "# read_inventory_file.py\n",
    "\n",
    "def read_inventory_file():\n",
    "    try:\n",
    "        with open('inventory.txt', 'r') as file:\n",
    "            for line in file:\n",
    "                print(line.strip())\n",
    "    except FileNotFoundError:\n",
    "        print(\"File not found.\")\n",
    "\n",
    "read_inventory_file()"
   ]
  },
  {
   "cell_type": "code",
   "execution_count": 35,
   "id": "eda534b2-9500-47c2-9fea-a931085d4acf",
   "metadata": {},
   "outputs": [
    {
     "name": "stdout",
     "output_type": "stream",
     "text": [
      "File not found.\n",
      "Total Expenses: 0\n"
     ]
    }
   ],
   "source": [
    "# 18. Create a Python script that reads a text file named \"expenses.txt\" and calculates the total amount spent\n",
    "\n",
    "# calculate_expenses.py\n",
    "\n",
    "def calculate_expenses(filename):\n",
    "    total_expense = 0\n",
    "    try:\n",
    "        with open(filename, 'r') as file:\n",
    "            for line in file:\n",
    "                try:\n",
    "                    expense = float(line.strip())\n",
    "                    total_expense += expense\n",
    "                except ValueError:\n",
    "                    print(f\"Invalid amount: {line.strip()}\")\n",
    "    except FileNotFoundError:\n",
    "        print(\"File not found.\")\n",
    "    \n",
    "    print(f\"Total Expenses: {total_expense}\")\n",
    "\n",
    "calculate_expenses('expenses.txt')"
   ]
  },
  {
   "cell_type": "code",
   "execution_count": 36,
   "id": "91355a89-145b-4fa3-b94e-44bc0d40ffa8",
   "metadata": {},
   "outputs": [
    {
     "name": "stdout",
     "output_type": "stream",
     "text": [
      "File not found.\n"
     ]
    }
   ],
   "source": [
    "# 19. Create a Python program that reads a text file named \"paragraph.txt\" and counts word occurrences\n",
    "\n",
    "# count_words.py\n",
    "\n",
    "from collections import Counter\n",
    "import re\n",
    "\n",
    "def count_words(filename):\n",
    "    try:\n",
    "        with open(filename, 'r') as file:\n",
    "            text = file.read()\n",
    "            words = re.findall(r'\\b\\w+\\b', text.lower())\n",
    "            word_counts = Counter(words)\n",
    "            for word in sorted(word_counts):\n",
    "                print(f\"{word}: {word_counts[word]}\")\n",
    "    except FileNotFoundError:\n",
    "        print(\"File not found.\")\n",
    "\n",
    "count_words('paragraph.txt')"
   ]
  },
  {
   "cell_type": "code",
   "execution_count": 37,
   "id": "d231da39-1431-403a-8cf9-ee2446237194",
   "metadata": {},
   "outputs": [
    {
     "name": "stdout",
     "output_type": "stream",
     "text": [
      "Coefficient of Correlation: 0.5165384993616535\n"
     ]
    }
   ],
   "source": [
    "# 24. Calculate Coefficient of Correlation\n",
    "# Given the marks of 10 students in Accountancy and Statistics:\n",
    "\n",
    "import numpy as np\n",
    "\n",
    "# Marks in Accountancy and Statistics\n",
    "accountancy_marks = np.array([35, 45, 90, 70, 65, 30, 90, 40, 50, 60])\n",
    "statistics_marks = np.array([70, 40, 95, 85, 60, 80, 80, 50, 40, 60])\n",
    "\n",
    "# Calculate the coefficient of correlation using Pearson's method\n",
    "correlation_coefficient = np.corrcoef(accountancy_marks, statistics_marks)[0, 1]\n",
    "print(f\"Coefficient of Correlation: {correlation_coefficient}\")"
   ]
  },
  {
   "cell_type": "code",
   "execution_count": null,
   "id": "4f95c929-7be8-498f-b4e5-e8dfab0fa7af",
   "metadata": {},
   "outputs": [],
   "source": []
  }
 ],
 "metadata": {
  "kernelspec": {
   "display_name": "Python 3 (ipykernel)",
   "language": "python",
   "name": "python3"
  },
  "language_info": {
   "codemirror_mode": {
    "name": "ipython",
    "version": 3
   },
   "file_extension": ".py",
   "mimetype": "text/x-python",
   "name": "python",
   "nbconvert_exporter": "python",
   "pygments_lexer": "ipython3",
   "version": "3.10.8"
  }
 },
 "nbformat": 4,
 "nbformat_minor": 5
}
