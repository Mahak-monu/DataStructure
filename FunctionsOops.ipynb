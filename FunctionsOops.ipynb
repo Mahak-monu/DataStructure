{
 "cells": [
  {
   "cell_type": "code",
   "execution_count": 1,
   "id": "9a922354-dfd1-471a-a9b0-0d95a93f7775",
   "metadata": {},
   "outputs": [],
   "source": [
    "\n",
    "#2. Write a basic function that greets students.\n",
    " \n",
    " \n",
    "def greet_students():\n",
    "    print(\"Hello, students!\")"
   ]
  },
  {
   "cell_type": "code",
   "execution_count": 10,
   "id": "c6a1a8ce-fe5a-4e17-877b-3db93254b1c5",
   "metadata": {},
   "outputs": [
    {
     "data": {
      "text/plain": [
       "100"
      ]
     },
     "execution_count": 10,
     "metadata": {},
     "output_type": "execute_result"
    }
   ],
   "source": [
    "#6. Write a code that generates the squares of numbers from 1 to n using a generator.\n",
    " \n",
    " \n",
    "def square_numbers(n):\n",
    "    for i in range(1, n + 1):\n",
    "        yield i * i\n",
    "square_number(10)"
   ]
  },
  {
   "cell_type": "code",
   "execution_count": 3,
   "id": "61c9a569-9e8d-4265-bbcd-f48b2c4736c4",
   "metadata": {},
   "outputs": [],
   "source": [
    "#7. Write a code that generates palindromic numbers up to n using a generator.\n",
    " \n",
    " \n",
    "def palindromic_numbers(n):\n",
    "    for i in range(1, n + 1):\n",
    "        if str(i) == str(i)[::-1]:\n",
    "            yield i"
   ]
  },
  {
   "cell_type": "code",
   "execution_count": 4,
   "id": "a3a61fd7-e62e-4c48-a02d-539b98232be5",
   "metadata": {},
   "outputs": [],
   "source": [
    "#8. Write a code that generates even numbers from 2 to n using a generator.\n",
    " \n",
    " \n",
    "def even_numbers(n):\n",
    "    for i in range(2, n + 1, 2):\n",
    "        yield i"
   ]
  },
  {
   "cell_type": "code",
   "execution_count": 5,
   "id": "dfd3fe7f-c2b8-4233-b523-a69b77d17239",
   "metadata": {},
   "outputs": [],
   "source": [
    "#9. Write a code that generates powers of two up to n using a generator.\n",
    " \n",
    " \n",
    "def powers_of_two(n):\n",
    "    i = 1\n",
    "    while i <= n:\n",
    "        yield i\n",
    "        i *= 2"
   ]
  },
  {
   "cell_type": "code",
   "execution_count": 7,
   "id": "e019ed47-0545-42cc-9277-3c4119502e29",
   "metadata": {},
   "outputs": [],
   "source": [
    "#10. Write a code that generates prime numbers up to n using a generator.\n",
    " \n",
    " \n",
    "def prime_numbers(n):\n",
    "    def is_prime(x):\n",
    "        if x < 2:\n",
    "            return False\n",
    "        for i in range(2, int(x ** 0.5) + 1):\n",
    "            if x % i == 0:\n",
    "                return False\n",
    "        return True\n",
    "\n",
    "    for i in range(2, n + 1):\n",
    "        if is_prime(i):\n",
    "            yield i"
   ]
  },
  {
   "cell_type": "code",
   "execution_count": 8,
   "id": "884a6cde-6485-4b69-9f19-fc702ff2a074",
   "metadata": {},
   "outputs": [],
   "source": [
    "#11. Write a code that uses a lambda function to calculate the sum of two numbers.\n",
    " \n",
    " \n",
    "sum_numbers = lambda x, y: x + y"
   ]
  },
  {
   "cell_type": "code",
   "execution_count": 9,
   "id": "aa313fc1-c976-47f1-a4d7-5f07bf402512",
   "metadata": {},
   "outputs": [],
   "source": [
    "#12. Write a code that uses a lambda function to calculate the square of a given number.\n",
    " \n",
    " \n",
    "square_number = lambda x: x * x"
   ]
  },
  {
   "cell_type": "code",
   "execution_count": 11,
   "id": "7fd43e40-6bfb-4089-9be5-d5aa82c863fc",
   "metadata": {},
   "outputs": [],
   "source": [
    "#13. Write a code that uses a lambda function to check whether a given number is even or odd.\n",
    " \n",
    " \n",
    "is_even = lambda x: x % 2 == 0"
   ]
  },
  {
   "cell_type": "code",
   "execution_count": 12,
   "id": "e47dac4a-8a51-4f60-8130-f1a46f5b6182",
   "metadata": {},
   "outputs": [],
   "source": [
    "#14. Write a code that uses a lambda function to concatenate two strings.\n",
    " \n",
    " \n",
    "concatenate_strings = lambda s1, s2: s1 + s2"
   ]
  },
  {
   "cell_type": "code",
   "execution_count": 13,
   "id": "1cf35b59-6a44-43b3-a289-e7737d4bfe11",
   "metadata": {},
   "outputs": [],
   "source": [
    "#15. Write a code that uses a lambda function to find the maximum of three given numbers.\n",
    " \n",
    "max_of_three = lambda x, y, z: max(x, y, z)\n"
   ]
  },
  {
   "cell_type": "code",
   "execution_count": 14,
   "id": "e25e7f32-5205-4668-adb8-265760e0efdf",
   "metadata": {},
   "outputs": [
    {
     "name": "stdout",
     "output_type": "stream",
     "text": [
      "5\n"
     ]
    }
   ],
   "source": [
    "#16. Write a code that uses a lambda function to find the maximum of three given numbers.\n",
    " \n",
    " \n",
    "max_of_three = lambda x, y, z: max(x, y, z)\n",
    "print(max_of_three(1, 5, 3))  # Example usage"
   ]
  },
  {
   "cell_type": "code",
   "execution_count": 15,
   "id": "6a4b27bc-f4d7-44cd-8bb5-d71106d9270a",
   "metadata": {},
   "outputs": [
    {
     "name": "stdout",
     "output_type": "stream",
     "text": [
      "[4, 16, 36]\n"
     ]
    }
   ],
   "source": [
    "#17. Write a code that generates the squares of even numbers from a given list.\n",
    " \n",
    " \n",
    "def square_even_numbers(lst):\n",
    "    return [x ** 2 for x in lst if x % 2 == 0]\n",
    "\n",
    "numbers = [1, 2, 3, 4, 5, 6]\n",
    "print(square_even_numbers(numbers))  # Example usage"
   ]
  },
  {
   "cell_type": "code",
   "execution_count": 16,
   "id": "292b805b-781e-41e7-afa5-2b31717cf51a",
   "metadata": {},
   "outputs": [
    {
     "name": "stdout",
     "output_type": "stream",
     "text": [
      "12\n"
     ]
    }
   ],
   "source": [
    "#18. Write a code that calculates the product of positive numbers from a given list.\n",
    " \n",
    " \n",
    "from functools import reduce\n",
    "\n",
    "def product_of_positives(lst):\n",
    "    return reduce(lambda x, y: x * y, filter(lambda x: x > 0, lst))\n",
    "\n",
    "numbers = [1, -2, 3, 4, -5]\n",
    "print(product_of_positives(numbers))  # Example usage"
   ]
  },
  {
   "cell_type": "code",
   "execution_count": 17,
   "id": "da3ffd77-5d22-4927-8a08-a6ec6de2f991",
   "metadata": {},
   "outputs": [
    {
     "name": "stdout",
     "output_type": "stream",
     "text": [
      "[2, 6, 10]\n"
     ]
    }
   ],
   "source": [
    "#19. Write a code that doubles the values of odd numbers from a given list.\n",
    " \n",
    " \n",
    "def double_odds(lst):\n",
    "    return [x * 2 for x in lst if x % 2 != 0]\n",
    "\n",
    "numbers = [1, 2, 3, 4, 5, 6]\n",
    "print(double_odds(numbers))  # Example usage"
   ]
  },
  {
   "cell_type": "code",
   "execution_count": 18,
   "id": "c9bfd1db-288a-42d9-bd0e-d66b15e9aac5",
   "metadata": {},
   "outputs": [
    {
     "name": "stdout",
     "output_type": "stream",
     "text": [
      "100\n"
     ]
    }
   ],
   "source": [
    "#20. Write a code that calculates the sum of cubes of numbers from a given list.\n",
    " \n",
    " \n",
    "def sum_of_cubes(lst):\n",
    "    return sum(x ** 3 for x in lst)\n",
    "\n",
    "numbers = [1, 2, 3, 4]\n",
    "print(sum_of_cubes(numbers))  # Example usage"
   ]
  },
  {
   "cell_type": "code",
   "execution_count": 19,
   "id": "6ceec5e9-a309-41de-940a-ce9f79437e50",
   "metadata": {},
   "outputs": [
    {
     "name": "stdout",
     "output_type": "stream",
     "text": [
      "[2, 3, 5, 7]\n"
     ]
    }
   ],
   "source": [
    "#21. Write a code that filters out prime numbers from a given list.\n",
    " \n",
    " \n",
    "def is_prime(n):\n",
    "    if n < 2:\n",
    "        return False\n",
    "    for i in range(2, int(n ** 0.5) + 1):\n",
    "        if n % i == 0:\n",
    "            return False\n",
    "    return True\n",
    "\n",
    "def filter_primes(lst):\n",
    "    return [x for x in lst if is_prime(x)]\n",
    "\n",
    "numbers = [1, 2, 3, 4, 5, 6, 7, 8, 9, 10]\n",
    "print(filter_primes(numbers))  # Example usage"
   ]
  },
  {
   "cell_type": "code",
   "execution_count": 20,
   "id": "556c7504-3ae7-4ff5-9aec-1d489cf1755c",
   "metadata": {},
   "outputs": [
    {
     "name": "stdout",
     "output_type": "stream",
     "text": [
      "8\n"
     ]
    }
   ],
   "source": [
    "#22. Write a code that uses a lambda function to calculate the sum of two numbers.\n",
    " \n",
    " \n",
    "sum_numbers = lambda x, y: x + y\n",
    "print(sum_numbers(3, 5))  # Example usage"
   ]
  },
  {
   "cell_type": "code",
   "execution_count": 21,
   "id": "50a8c495-2763-4d2e-a42d-bd2b6aab15b2",
   "metadata": {},
   "outputs": [
    {
     "name": "stdout",
     "output_type": "stream",
     "text": [
      "16\n"
     ]
    }
   ],
   "source": [
    "#23. Write a code that uses a lambda function to calculate the square of a given number.\n",
    " \n",
    " \n",
    "square_number = lambda x: x ** 2\n",
    "print(square_number(4))  # Example usage"
   ]
  },
  {
   "cell_type": "code",
   "execution_count": 22,
   "id": "de5bbf53-ace0-4cf4-b9f4-8729633d54a4",
   "metadata": {},
   "outputs": [
    {
     "name": "stdout",
     "output_type": "stream",
     "text": [
      "True\n",
      "False\n"
     ]
    }
   ],
   "source": [
    "#24. Write a code that uses a lambda function to check whether a given number is even or odd.\n",
    " \n",
    " \n",
    "is_even = lambda x: x % 2 == 0\n",
    "print(is_even(4))  # Example usage\n",
    "print(is_even(5))  # Example usage"
   ]
  },
  {
   "cell_type": "code",
   "execution_count": 23,
   "id": "f15ed818-1a90-4e85-bdc5-cd6b77e2cb8c",
   "metadata": {},
   "outputs": [
    {
     "name": "stdout",
     "output_type": "stream",
     "text": [
      "Hello, World!\n",
      "7\n"
     ]
    }
   ],
   "source": [
    "#25. Write a code that uses a lambda function to concatenate two strings.\n",
    " \n",
    " \n",
    "concatenate_strings = lambda s1, s2: s1 + s2\n",
    "print(concatenate_strings(\"Hello, \", \"World!\"))  # Example usage\n",
    "#26. Write a code that uses a lambda function to find the maximum of three given numbers.\n",
    " \n",
    " \n",
    "max_of_three = lambda x, y, z: max(x, y, z)\n",
    "print(max_of_three(3, 7, 5))  # Example usage"
   ]
  },
  {
   "cell_type": "code",
   "execution_count": 24,
   "id": "b5703d58-50c9-486c-94ff-f67cfc9fbc59",
   "metadata": {},
   "outputs": [],
   "source": [
    "#32. Define a parent class Animal with a method make_sound that prints \"Generic animal sound\". Create a child class Dog inheriting from Animal with a method make_sound that prints \"Woof!\".\n",
    " \n",
    " \n",
    "class Animal:\n",
    "    def make_sound(self):\n",
    "        print(\"Generic animal sound\")\n",
    "\n",
    "class Dog(Animal):\n",
    "    def make_sound(self):\n",
    "        print(\"Woof!\")"
   ]
  },
  {
   "cell_type": "code",
   "execution_count": 25,
   "id": "f9e869a6-10b0-442b-bcef-d25274454b6b",
   "metadata": {},
   "outputs": [],
   "source": [
    "#33. Define a method move in the Animal class that prints \"Animal moves\". Override the move method in the Dog class to print \"Dog runs\".\n",
    " \n",
    " \n",
    "class Animal:\n",
    "    def move(self):\n",
    "        print(\"Animal moves\")\n",
    "\n",
    "class Dog(Animal):\n",
    "    def move(self):\n",
    "        print(\"Dog runs\")"
   ]
  },
  {
   "cell_type": "code",
   "execution_count": 26,
   "id": "52aa04ca-87f5-4105-8b16-a8509393a1fb",
   "metadata": {},
   "outputs": [],
   "source": [
    "#34. Create a class Mammal with a method reproduce that prints \"Giving birth to live young\". Create a class DogMammal inheriting from both Dog and Mammal.\n",
    " \n",
    " \n",
    "class Mammal:\n",
    "    def reproduce(self):\n",
    "        print(\"Giving birth to live young\")\n",
    "\n",
    "class DogMammal(Dog, Mammal):\n",
    "    pass"
   ]
  },
  {
   "cell_type": "code",
   "execution_count": 27,
   "id": "35b53a92-86ce-4776-ba08-f2f0bf6f5388",
   "metadata": {},
   "outputs": [],
   "source": [
    "#35. Create a class GermanShepherd inheriting from Dog and override the make_sound method to print \"Bark!\".\n",
    " \n",
    " \n",
    "class GermanShepherd(Dog):\n",
    "    def make_sound(self):\n",
    "        print(\"Bark!\")"
   ]
  },
  {
   "cell_type": "code",
   "execution_count": 28,
   "id": "3d5332e5-8411-4cc0-a01f-bc40bb446615",
   "metadata": {},
   "outputs": [
    {
     "name": "stdout",
     "output_type": "stream",
     "text": [
      "Generic Animal\n",
      "Rex\n",
      "German Shepherd\n"
     ]
    }
   ],
   "source": [
    "#36. Define Constructors in the Animal and Dog Classes with Different Initialization Parameters\n",
    " \n",
    " \n",
    "# Define the parent class with a constructor\n",
    "class Animal:\n",
    "    def __init__(self, name):\n",
    "        self.name = name\n",
    "\n",
    "    def make_sound(self):\n",
    "        print(\"Generic animal sound\")\n",
    "\n",
    "# Define the child class with its own constructor\n",
    "class Dog(Animal):\n",
    "    def __init__(self, name, breed):\n",
    "        super().__init__(name)\n",
    "        self.breed = breed\n",
    "\n",
    "    def make_sound(self):\n",
    "        print(\"Woof!\")\n",
    "\n",
    "# Example usage\n",
    "animal = Animal(\"Generic Animal\")\n",
    "print(animal.name)  # Output: Generic Animal\n",
    "\n",
    "dog = Dog(\"Rex\", \"German Shepherd\")\n",
    "print(dog.name)  # Output: Rex\n",
    "print(dog.breed)  # Output: German Shepherd"
   ]
  },
  {
   "cell_type": "code",
   "execution_count": 29,
   "id": "0f8efc93-0f6a-47ab-8760-9441229d4502",
   "metadata": {},
   "outputs": [
    {
     "name": "stdout",
     "output_type": "stream",
     "text": [
      "Woof!\n",
      "Dog runs\n",
      "Meow!\n",
      "Cat jumps\n"
     ]
    }
   ],
   "source": [
    "#41. Can You Provide an Example of How Abstraction Can Be Utilized to Create a Common Interface for a Group of Related Classes in  ?\n",
    "\n",
    " \n",
    " \n",
    "from abc import ABC, abstractmethod\n",
    "\n",
    "# Define an abstract base class\n",
    "class Animal(ABC):\n",
    "    @abstractmethod\n",
    "    def make_sound(self):\n",
    "        pass\n",
    "\n",
    "    @abstractmethod\n",
    "    def move(self):\n",
    "        pass\n",
    "\n",
    "# Define concrete classes\n",
    "class Dog(Animal):\n",
    "    def make_sound(self):\n",
    "        print(\"Woof!\")\n",
    "\n",
    "    def move(self):\n",
    "        print(\"Dog runs\")\n",
    "\n",
    "class Cat(Animal):\n",
    "    def make_sound(self):\n",
    "        print(\"Meow!\")\n",
    "\n",
    "    def move(self):\n",
    "        print(\"Cat jumps\")\n",
    "\n",
    "# Example usage\n",
    "def animal_actions(animal):\n",
    "    animal.make_sound()\n",
    "    animal.move()\n",
    "\n",
    "dog = Dog()\n",
    "cat = Cat()\n",
    "\n",
    "animal_actions(dog)  # Output: Woof! \\n Dog runs\n",
    "animal_actions(cat)  # Output: Meow! \\n Cat jumps"
   ]
  },
  {
   "cell_type": "code",
   "execution_count": 30,
   "id": "4294e1e5-9e86-4f5f-aa1f-48133cc88699",
   "metadata": {},
   "outputs": [
    {
     "name": "stdout",
     "output_type": "stream",
     "text": [
      "Base display\n",
      "Subclass display\n"
     ]
    }
   ],
   "source": [
    "#43. Define a Base Class with a Method and a Subclass that Overrides the Method\n",
    " \n",
    " \n",
    "# Define the base class\n",
    "class Base:\n",
    "    def display(self):\n",
    "        print(\"Base display\")\n",
    "\n",
    "# Define the subclass\n",
    "class Subclass(Base):\n",
    "    def display(self):\n",
    "        print(\"Subclass display\")\n",
    "\n",
    "# Example usage\n",
    "base = Base()\n",
    "base.display()  # Output: Base display\n",
    "\n",
    "sub = Subclass()\n",
    "sub.display()  # Output: Subclass display"
   ]
  },
  {
   "cell_type": "code",
   "execution_count": 32,
   "id": "68125016-05b5-4a6f-8ea8-f513117bae80",
   "metadata": {},
   "outputs": [
    {
     "name": "stdout",
     "output_type": "stream",
     "text": [
      "Woof!\n",
      "Meow!\n",
      "Moo!\n"
     ]
    }
   ],
   "source": [
    "#44. Define a Base Class and Multiple Subclasses with Overridden Methods\n",
    " \n",
    " \n",
    "# Define the base class\n",
    "class Animal:\n",
    "    def make_sound(self):\n",
    "        print(\"Animal sound\")\n",
    "\n",
    "# Define subclasses\n",
    "class Dog(Animal):\n",
    "    def make_sound(self):\n",
    "        print(\"Woof!\")\n",
    "\n",
    "class Cat(Animal):\n",
    "    def make_sound(self):\n",
    "        print(\"Meow!\")\n",
    "\n",
    "class Cow(Animal):\n",
    "    def make_sound(self):\n",
    "        print(\"Moo!\")\n",
    "\n",
    "# Example usage\n",
    "animals = [Dog(), Cat(), Cow()]\n",
    "for animal in animals:\n",
    "    animal.make_sound()\n",
    "    # Output: Woof!\n",
    "    #         Meow!\n",
    "    #         Moo!"
   ]
  },
  {
   "cell_type": "code",
   "execution_count": 34,
   "id": "d9be87ce-3cb2-42c0-85ec-82baa25aa2b2",
   "metadata": {},
   "outputs": [
    {
     "name": "stdout",
     "output_type": "stream",
     "text": [
      "Bird flies\n",
      "Airplane flies\n"
     ]
    }
   ],
   "source": [
    "#46. Describe How   Supports Polymorphism with Duck Typing\n",
    "  #supports polymorphism through duck typing, which means that the type or class of an object is less important than the methods it defines or the behaviors it supports. If an object implements the required methods, it can be used interchangeably with other objects that implement the same methods, regardless of their actual type.\n",
    "\n",
    " \n",
    " \n",
    "class Bird:\n",
    "    def fly(self):\n",
    "        print(\"Bird flies\")\n",
    "\n",
    "class Airplane:\n",
    "    def fly(self):\n",
    "        print(\"Airplane flies\")\n",
    "\n",
    "def let_it_fly(flying_thing):\n",
    "    flying_thing.fly()\n",
    "\n",
    "bird = Bird()\n",
    "airplane = Airplane()\n",
    "\n",
    "let_it_fly(bird)      # Output: Bird flies\n",
    "let_it_fly(airplane)  # Output: Airplane flies"
   ]
  },
  {
   "cell_type": "code",
   "execution_count": 35,
   "id": "af4dd6fe-5d20-4180-99a5-fc9efe4d4485",
   "metadata": {},
   "outputs": [
    {
     "name": "stdout",
     "output_type": "stream",
     "text": [
      "1300\n"
     ]
    }
   ],
   "source": [
    "#49. Implement a Class BankAccount with a Private Balance Attribute. Include Methods to Deposit, Withdraw, and Check the Balance\n",
    " \n",
    " \n",
    "class BankAccount:\n",
    "    def __init__(self, balance):\n",
    "        self.__balance = balance  # Private attribute\n",
    "\n",
    "    def deposit(self, amount):\n",
    "        if amount > 0:\n",
    "            self.__balance += amount\n",
    "\n",
    "    def withdraw(self, amount):\n",
    "        if amount > 0 and amount <= self.__balance:\n",
    "            self.__balance -= amount\n",
    "\n",
    "    def check_balance(self):\n",
    "        return self.__balance\n",
    "\n",
    "# Example usage\n",
    "account = BankAccount(1000)\n",
    "account.deposit(500)\n",
    "account.withdraw(200)\n",
    "print(account.check_balance())  # Output: 1300"
   ]
  },
  {
   "cell_type": "code",
   "execution_count": 36,
   "id": "cbd28a2c-81e0-4388-b3cd-9bdc2eb7e1f9",
   "metadata": {},
   "outputs": [
    {
     "name": "stdout",
     "output_type": "stream",
     "text": [
      "alice@example.com\n",
      "alice.new@example.com\n"
     ]
    }
   ],
   "source": [
    "#50. Develop a Person Class with Private Attributes for Name and Email, and Methods to Set and Get the Email\n",
    " \n",
    " \n",
    "class Person:\n",
    "    def __init__(self, name, email):\n",
    "        self.__name = name  # Private attribute\n",
    "        self.__email = email  # Private attribute\n",
    "\n",
    "    def set_email(self, email):\n",
    "        self.__email = email\n",
    "\n",
    "    def get_email(self):\n",
    "        return self.__email\n",
    "\n",
    "# Example usage\n",
    "person = Person(\"Alice\", \"alice@example.com\")\n",
    "print(person.get_email())  # Output: alice@example.com\n",
    "person.set_email(\"alice.new@example.com\")\n",
    "print(person.get_email())  # Output: alice.new@example.com"
   ]
  },
  {
   "cell_type": "code",
   "execution_count": 37,
   "id": "3aa7b81c-fd6a-4627-ba2b-cae6273415fd",
   "metadata": {},
   "outputs": [
    {
     "name": "stdout",
     "output_type": "stream",
     "text": [
      "Before function execution\n",
      "Hello, Alice!\n",
      "After function execution\n"
     ]
    }
   ],
   "source": [
    "#52. Create a decorator in   that adds functionality to a simple function by printing a message before and after the function execution.\n",
    " \n",
    " \n",
    "def simple_decorator(func):\n",
    "    def wrapper(*args, **kwargs):\n",
    "        print(\"Before function execution\")\n",
    "        result = func(*args, **kwargs)\n",
    "        print(\"After function execution\")\n",
    "        return result\n",
    "    return wrapper\n",
    "\n",
    "@simple_decorator\n",
    "def greet(name):\n",
    "    print(f\"Hello, {name}!\")\n",
    "\n",
    "greet(\"Alice\")"
   ]
  },
  {
   "cell_type": "code",
   "execution_count": 38,
   "id": "5b186762-a591-4d01-a941-0c23db011d3e",
   "metadata": {},
   "outputs": [
    {
     "name": "stdout",
     "output_type": "stream",
     "text": [
      "Executing - Function name: greet\n",
      "Hello, Alice!\n",
      "Executing - Function name: greet\n"
     ]
    }
   ],
   "source": [
    "#53. Modify the decorator to accept arguments and print the function name along with the message.\n",
    " \n",
    " \n",
    "def simple_decorator(message):\n",
    "    def decorator(func):\n",
    "        def wrapper(*args, **kwargs):\n",
    "            print(f\"{message} - Function name: {func.__name__}\")\n",
    "            result = func(*args, **kwargs)\n",
    "            print(f\"{message} - Function name: {func.__name__}\")\n",
    "            return result\n",
    "        return wrapper\n",
    "    return decorator\n",
    "\n",
    "@simple_decorator(\"Executing\")\n",
    "def greet(name):\n",
    "    print(f\"Hello, {name}!\")\n",
    "\n",
    "greet(\"Alice\")"
   ]
  },
  {
   "cell_type": "code",
   "execution_count": 39,
   "id": "854aa6a2-f28a-490a-a903-ad8e4f3d94d5",
   "metadata": {},
   "outputs": [
    {
     "name": "stdout",
     "output_type": "stream",
     "text": [
      "Decorator One - Before\n",
      "Decorator Two - Before\n",
      "Hello, Alice!\n",
      "Decorator Two - After\n",
      "Decorator One - After\n"
     ]
    }
   ],
   "source": [
    "#54. Create a few decorators and apply them to a single function. Ensure that they execute in the order they are applied.\n",
    " \n",
    " \n",
    "def decorator_one(func):\n",
    "    def wrapper(*args, **kwargs):\n",
    "        print(\"Decorator One - Before\")\n",
    "        result = func(*args, **kwargs)\n",
    "        print(\"Decorator One - After\")\n",
    "        return result\n",
    "    return wrapper\n",
    "\n",
    "def decorator_two(func):\n",
    "    def wrapper(*args, **kwargs):\n",
    "        print(\"Decorator Two - Before\")\n",
    "        result = func(*args, **kwargs)\n",
    "        print(\"Decorator Two - After\")\n",
    "        return result\n",
    "    return wrapper\n",
    "\n",
    "@decorator_one\n",
    "@decorator_two\n",
    "def greet(name):\n",
    "    print(f\"Hello, {name}!\")\n",
    "\n",
    "greet(\"Alice\")"
   ]
  },
  {
   "cell_type": "code",
   "execution_count": 40,
   "id": "5ae8dad3-0fed-46d8-980c-354a15094db0",
   "metadata": {},
   "outputs": [
    {
     "name": "stdout",
     "output_type": "stream",
     "text": [
      "Executing - Function name: greet\n",
      "Hi, Alice!\n",
      "Executing - Function name: greet\n"
     ]
    }
   ],
   "source": [
    "#55. Modify the decorator to accept and pass function arguments to the wrapped function.\n",
    " \n",
    " \n",
    "def simple_decorator(message):\n",
    "    def decorator(func):\n",
    "        def wrapper(*args, **kwargs):\n",
    "            print(f\"{message} - Function name: {func.__name__}\")\n",
    "            result = func(*args, **kwargs)\n",
    "            print(f\"{message} - Function name: {func.__name__}\")\n",
    "            return result\n",
    "        return wrapper\n",
    "    return decorator\n",
    "\n",
    "@simple_decorator(\"Executing\")\n",
    "def greet(name, greeting=\"Hello\"):\n",
    "    print(f\"{greeting}, {name}!\")\n",
    "\n",
    "greet(\"Alice\", greeting=\"Hi\")"
   ]
  },
  {
   "cell_type": "code",
   "execution_count": 41,
   "id": "2062b94a-8ab8-498d-9a17-3e72cdda3598",
   "metadata": {},
   "outputs": [
    {
     "name": "stdout",
     "output_type": "stream",
     "text": [
      "Function name: greet\n",
      "Function docstring: Greets the person with the provided name.\n",
      "Hello, Alice!\n"
     ]
    }
   ],
   "source": [
    "#56. Create a decorator that reserves the metadata of the original function.\n",
    " \n",
    " \n",
    "import functools\n",
    "\n",
    "def metadata_preserving_decorator(func):\n",
    "    @functools.wraps(func)\n",
    "    def wrapper(*args, **kwargs):\n",
    "        print(f\"Function name: {func.__name__}\")\n",
    "        print(f\"Function docstring: {func.__doc__}\")\n",
    "        result = func(*args, **kwargs)\n",
    "        return result\n",
    "    return wrapper\n",
    "\n",
    "@metadata_preserving_decorator\n",
    "def greet(name):\n",
    "    \"\"\"Greets the person with the provided name.\"\"\"\n",
    "    print(f\"Hello, {name}!\")\n",
    "\n",
    "greet(\"Alice\")"
   ]
  },
  {
   "cell_type": "code",
   "execution_count": 42,
   "id": "6568bc8d-d404-4570-ba4f-14a06a34327c",
   "metadata": {},
   "outputs": [
    {
     "name": "stdout",
     "output_type": "stream",
     "text": [
      "15\n",
      "2\n"
     ]
    }
   ],
   "source": [
    "#57. Create a   class Calculator with a static method add that takes in two numbers and returns their sum.\n",
    " \n",
    " \n",
    "class Calculator:\n",
    "    @staticmethod\n",
    "    def add(x, y):\n",
    "        return x + y\n",
    "\n",
    "# Example usage\n",
    "result = Calculator.add(10, 5)\n",
    "print(result)  # Output: 15\n",
    "#58. Create a   class Employee with a class method get_employee_count that returns the total number of employees created.\n",
    " \n",
    " \n",
    "class Employee:\n",
    "    employee_count = 0\n",
    "\n",
    "    def __init__(self, name):\n",
    "        self.name = name\n",
    "        Employee.employee_count += 1\n",
    "\n",
    "    @classmethod\n",
    "    def get_employee_count(cls):\n",
    "        return cls.employee_count\n",
    "\n",
    "# Example usage\n",
    "e1 = Employee(\"Alice\")\n",
    "e2 = Employee(\"Bob\")\n",
    "print(Employee.get_employee_count())  # Output: 2"
   ]
  },
  {
   "cell_type": "code",
   "execution_count": 43,
   "id": "e80732cf-bc20-4aba-86b6-f412ae8d47f0",
   "metadata": {},
   "outputs": [
    {
     "name": "stdout",
     "output_type": "stream",
     "text": [
      "olleh\n",
      "78.53981633974483\n"
     ]
    }
   ],
   "source": [
    "#59. Create a   class StringManipulator with a static method reverse_string that takes in a string and returns its reverse.\n",
    " \n",
    " \n",
    "class StringManipulator:\n",
    "    @staticmethod\n",
    "    def reverse_string(s):\n",
    "        return s[::-1]\n",
    "\n",
    "# Example usage\n",
    "result = StringManipulator.reverse_string(\"hello\")\n",
    "print(result)  # Output: \"olleh\"\n",
    "#60. Create a   class Circle with a class method calculate_area that calculates the area of a circle given its radius.\n",
    " \n",
    " \n",
    "import math\n",
    "\n",
    "class Circle:\n",
    "    @staticmethod\n",
    "    def calculate_area(radius):\n",
    "        return math.pi * (radius ** 2)\n",
    "\n",
    "# Example usage\n",
    "area = Circle.calculate_area(5)\n",
    "print(area)  # Output: 78.53981633974483"
   ]
  },
  {
   "cell_type": "code",
   "execution_count": 44,
   "id": "27938446-a2af-4d7a-a055-d930a39f40f9",
   "metadata": {},
   "outputs": [
    {
     "name": "stdout",
     "output_type": "stream",
     "text": [
      "77.0\n"
     ]
    }
   ],
   "source": [
    "#61. Create a   class TemperatureConverter with a static method celsius_to_fahrenheit that converts Celsius to Fahrenheit.\n",
    " \n",
    " \n",
    "class TemperatureConverter:\n",
    "    @staticmethod\n",
    "    def celsius_to_fahrenheit(celsius):\n",
    "        return (celsius * 9/5) + 32\n",
    "\n",
    "# Example usage\n",
    "fahrenheit = TemperatureConverter.celsius_to_fahrenheit(25)\n",
    "print(fahrenheit)  # Output: 77.0"
   ]
  },
  {
   "cell_type": "code",
   "execution_count": null,
   "id": "1341151e-58fe-4cc1-abaa-36becf662d64",
   "metadata": {},
   "outputs": [],
   "source": []
  }
 ],
 "metadata": {
  "kernelspec": {
   "display_name": "Python 3 (ipykernel)",
   "language": "python",
   "name": "python3"
  },
  "language_info": {
   "codemirror_mode": {
    "name": "ipython",
    "version": 3
   },
   "file_extension": ".py",
   "mimetype": "text/x-python",
   "name": "python",
   "nbconvert_exporter": "python",
   "pygments_lexer": "ipython3",
   "version": "3.10.8"
  }
 },
 "nbformat": 4,
 "nbformat_minor": 5
}
