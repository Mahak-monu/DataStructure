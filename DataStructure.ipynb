{
 "cells": [
  {
   "cell_type": "code",
   "execution_count": 1,
   "id": "6fda7af1-16f7-4c15-806d-966d1eb20947",
   "metadata": {},
   "outputs": [
    {
     "name": "stdout",
     "output_type": "stream",
     "text": [
      "olleh\n"
     ]
    }
   ],
   "source": [
    "\n",
    "#1. Code to reverse a string:\n",
    "\n",
    "def reverse_string(s):\n",
    "    return s[::-1]\n",
    "\n",
    "# Example usage:\n",
    "original_string = \"hello\"\n",
    "reversed_string = reverse_string(original_string)\n",
    "print(reversed_string)  # Output: \"olleh\"\n",
    "\n",
    "\n"
   ]
  },
  {
   "cell_type": "code",
   "execution_count": 1,
   "id": "dad20ac5-7e2b-456e-8e9b-b9656f93dbb2",
   "metadata": {},
   "outputs": [
    {
     "name": "stdout",
     "output_type": "stream",
     "text": [
      "olleh\n"
     ]
    }
   ],
   "source": [
    "\n",
    "#1. Code to reverse a string:\n",
    "\n",
    "def reverse_string(s):\n",
    "    return s[::-1]\n",
    "\n",
    "# Example usage:\n",
    "original_string = \"hello\"\n",
    "reversed_string = reverse_string(original_string)\n",
    "print(reversed_string)  # Output: \"olleh\"\n",
    "\n",
    "\n"
   ]
  },
  {
   "cell_type": "code",
   "execution_count": 1,
   "id": "b946bccd-0c44-49e7-8876-76fd2ffacb51",
   "metadata": {},
   "outputs": [
    {
     "name": "stdout",
     "output_type": "stream",
     "text": [
      "olleh\n"
     ]
    }
   ],
   "source": [
    "\n",
    "#1. Code to reverse a string:\n",
    "\n",
    "def reverse_string(s):\n",
    "    return s[::-1]\n",
    "\n",
    "# Example usage:\n",
    "original_string = \"hello\"\n",
    "reversed_string = reverse_string(original_string)\n",
    "print(reversed_string)  # Output: \"olleh\"\n",
    "\n",
    "\n"
   ]
  },
  {
   "cell_type": "code",
   "execution_count": 2,
   "id": "372a569d-abdd-4b6f-90c1-2ce1ed13ccc6",
   "metadata": {},
   "outputs": [
    {
     "name": "stdout",
     "output_type": "stream",
     "text": [
      "3\n"
     ]
    }
   ],
   "source": [
    "# Code to count the number of vowels in a string:\n",
    "\n",
    "def count_vowels(s):\n",
    "    vowels = \"aeiouAEIOU\"\n",
    "    count = sum(1 for char in s if char in vowels)\n",
    "    return count\n",
    "\n",
    "# Example usage:\n",
    "test_string = \"hello world\"\n",
    "vowel_count = count_vowels(test_string)\n",
    "print(vowel_count)  # Output: 3"
   ]
  },
  {
   "cell_type": "code",
   "execution_count": 3,
   "id": "4ccdd1f8-3ed8-481a-931f-b1217693965a",
   "metadata": {},
   "outputs": [
    {
     "name": "stdout",
     "output_type": "stream",
     "text": [
      "True\n"
     ]
    }
   ],
   "source": [
    "# Code to check if a given string is a palindrome or not:\n",
    "\n",
    "def is_palindrome(s):\n",
    "    s = s.lower().replace(\" \", \"\")\n",
    "    return s == s[::-1]\n",
    "\n",
    "# Example usage:\n",
    "test_string = \"A man a plan a canal Panama\"\n",
    "result = is_palindrome(test_string)\n",
    "print(result)  # Output: True"
   ]
  },
  {
   "cell_type": "code",
   "execution_count": 4,
   "id": "f3e91c9e-c761-4edc-9f1d-67c0a3e9534f",
   "metadata": {},
   "outputs": [
    {
     "name": "stdout",
     "output_type": "stream",
     "text": [
      "True\n"
     ]
    }
   ],
   "source": [
    "# Code to check if two given strings are anagrams of each other:\n",
    "\n",
    "def are_anagrams(s1, s2):\n",
    "    return sorted(s1.replace(\" \", \"\").lower()) == sorted(s2.replace(\" \", \"\").lower())\n",
    "\n",
    "# Example usage:\n",
    "str1 = \"listen\"\n",
    "str2 = \"silent\"\n",
    "result = are_anagrams(str1, str2)\n",
    "print(result)  # Output: True"
   ]
  },
  {
   "cell_type": "code",
   "execution_count": 5,
   "id": "ef4caab1-9872-440f-b31a-1b1bbfcf6f5b",
   "metadata": {},
   "outputs": [
    {
     "name": "stdout",
     "output_type": "stream",
     "text": [
      "[10, 33]\n"
     ]
    }
   ],
   "source": [
    "#Code to find all occurrences of a given substring within another string:\n",
    "\n",
    "def find_substring_occurrences(s, substring):\n",
    "    occurrences = []\n",
    "    start = 0\n",
    "    while True:\n",
    "        start = s.find(substring, start)\n",
    "        if start == -1:\n",
    "            break\n",
    "        occurrences.append(start)\n",
    "        start += len(substring)  # move past the last found occurrence\n",
    "    return occurrences\n",
    "\n",
    "# Example usage:\n",
    "main_string = \"this is a test string. This is a test.\"\n",
    "sub_string = \"test\"\n",
    "positions = find_substring_occurrences(main_string, sub_string)\n",
    "print(positions)  # Output: [15, 35]"
   ]
  },
  {
   "cell_type": "code",
   "execution_count": 6,
   "id": "6da48296-932c-4060-9ca2-bee78fedb52e",
   "metadata": {},
   "outputs": [
    {
     "name": "stdout",
     "output_type": "stream",
     "text": [
      "True\n"
     ]
    }
   ],
   "source": [
    "#Code to determine if a string has all unique characters:\n",
    "\n",
    "def has_unique_characters(s):\n",
    "    return len(set(s)) == len(s)\n",
    "\n",
    "# Example usage:\n",
    "test_string = \"abcdef\"\n",
    "result = has_unique_characters(test_string)\n",
    "print(result)  # Output: True\n"
   ]
  },
  {
   "cell_type": "code",
   "execution_count": 7,
   "id": "f8f82a72-d22a-48e3-b8ea-5ce96dad3377",
   "metadata": {},
   "outputs": [
    {
     "name": "stdout",
     "output_type": "stream",
     "text": [
      "HELLO WORLD\n",
      "hello world\n"
     ]
    }
   ],
   "source": [
    "#Code to convert a given string to uppercase or lowercase:\n",
    "\n",
    "def convert_case(s, to_upper=True):\n",
    "    return s.upper() if to_upper else s.lower()\n",
    "\n",
    "# Example usage:\n",
    "original_string = \"Hello World\"\n",
    "upper_case_string = convert_case(original_string, True)\n",
    "lower_case_string = convert_case(original_string, False)\n",
    "print(upper_case_string)  # Output: \"HELLO WORLD\"\n",
    "print(lower_case_string)  # Output: \"hello world\""
   ]
  },
  {
   "cell_type": "code",
   "execution_count": 8,
   "id": "414305ca-1a2f-4117-90d2-0a7a8ff9118b",
   "metadata": {},
   "outputs": [
    {
     "name": "stdout",
     "output_type": "stream",
     "text": [
      "5\n"
     ]
    }
   ],
   "source": [
    "#Code to count the number of words in a string:\n",
    "\n",
    "def count_words(s):\n",
    "    return len(s.split())\n",
    "\n",
    "# Example usage:\n",
    "sentence = \"This is a test sentence.\"\n",
    "word_count = count_words(sentence)\n",
    "print(word_count)  # Output: 5"
   ]
  },
  {
   "cell_type": "code",
   "execution_count": 9,
   "id": "f6f8f0da-d658-4068-af25-c35e2f37868e",
   "metadata": {},
   "outputs": [
    {
     "name": "stdout",
     "output_type": "stream",
     "text": [
      "Hello World\n"
     ]
    }
   ],
   "source": [
    "#Code to concatenate two strings without using the + operator:\n",
    "\n",
    "def concatenate_strings(s1, s2):\n",
    "    return ''.join([s1, s2])\n",
    "\n",
    "# Example usage:\n",
    "str1 = \"Hello \"\n",
    "str2 = \"World\"\n",
    "concatenated_string = concatenate_strings(str1, str2)\n",
    "print(concatenated_string)  # Output: \"Hello World\"\n"
   ]
  },
  {
   "cell_type": "code",
   "execution_count": 10,
   "id": "f5970e9c-b8a6-47e5-9a1a-873b7ab6a8a8",
   "metadata": {},
   "outputs": [
    {
     "name": "stdout",
     "output_type": "stream",
     "text": [
      "[1, 3, 4]\n"
     ]
    }
   ],
   "source": [
    "# Code to remove all occurrences of a specified element from a list:\n",
    "\n",
    "def remove_element(lst, element):\n",
    "    return [x for x in lst if x != element]\n",
    "\n",
    "# Example usage:\n",
    "my_list = [1, 2, 3, 2, 4, 2]\n",
    "new_list = remove_element(my_list, 2)\n",
    "print(new_list)  # Output: [1, 3, 4]"
   ]
  },
  {
   "cell_type": "code",
   "execution_count": 11,
   "id": "e5f70f3e-27f3-49d6-aaef-f59ee0396f79",
   "metadata": {},
   "outputs": [
    {
     "name": "stdout",
     "output_type": "stream",
     "text": [
      "45\n"
     ]
    }
   ],
   "source": [
    "# Implement code to find the second largest number in a given list of integers:\n",
    "\n",
    "def find_second_largest(lst):\n",
    "    if len(lst) < 2:\n",
    "        return None  # Not enough elements\n",
    "    first, second = float('-inf'), float('-inf')\n",
    "    for number in lst:\n",
    "        if number > first:\n",
    "            second = first\n",
    "            first = number\n",
    "        elif first > number > second:\n",
    "            second = number\n",
    "    return second if second != float('-inf') else None\n",
    "\n",
    "# Example usage:\n",
    "numbers = [10, 20, 4, 45, 99]\n",
    "second_largest = find_second_largest(numbers)\n",
    "print(second_largest)  # Output: 45"
   ]
  },
  {
   "cell_type": "code",
   "execution_count": 12,
   "id": "c106595e-3f4a-462a-a04d-763e4a196da8",
   "metadata": {},
   "outputs": [
    {
     "name": "stdout",
     "output_type": "stream",
     "text": [
      "{'apple': 2, 'banana': 3, 'orange': 1}\n"
     ]
    }
   ],
   "source": [
    "#Create code to count the occurrences of each element in a list and return a dictionary with elements as keys and their counts as values:\n",
    "\n",
    "def count_occurrences(lst):\n",
    "    counts = {}\n",
    "    for item in lst:\n",
    "        counts[item] = counts.get(item, 0) + 1\n",
    "    return counts\n",
    "\n",
    "# Example usage:\n",
    "my_list = ['apple', 'banana', 'apple', 'orange', 'banana', 'banana']\n",
    "occurrences = count_occurrences(my_list)\n",
    "print(occurrences)  # Output: {'apple': 2, 'banana': 3, 'orange': 1}"
   ]
  },
  {
   "cell_type": "code",
   "execution_count": 13,
   "id": "6647a496-f022-4644-a4e4-7e1bbcf965c9",
   "metadata": {},
   "outputs": [
    {
     "name": "stdout",
     "output_type": "stream",
     "text": [
      "[5, 4, 3, 2, 1]\n"
     ]
    }
   ],
   "source": [
    "#Write code to reverse a list in-place without using any built-in reverse function:\n",
    "\n",
    "def reverse_list(lst):\n",
    "    start, end = 0, len(lst) - 1\n",
    "    while start < end:\n",
    "        lst[start], lst[end] = lst[end], lst[start]\n",
    "        start += 1\n",
    "        end -= 1\n",
    "\n",
    "# Example usage:\n",
    "my_list = [1, 2, 3, 4, 5]\n",
    "reverse_list(my_list)\n",
    "print(my_list)  # Output: [5, 4, 3, 2, 1]"
   ]
  },
  {
   "cell_type": "code",
   "execution_count": 14,
   "id": "c0a189d0-410c-4e8b-a63e-d075b14f8e81",
   "metadata": {},
   "outputs": [
    {
     "name": "stdout",
     "output_type": "stream",
     "text": [
      "[1, 2, 3, 4, 5]\n"
     ]
    }
   ],
   "source": [
    "# Implement code to find and remove duplicates from a list while preserving the original order of elements:\n",
    "\n",
    "def remove_duplicates(lst):\n",
    "    seen = set()\n",
    "    result = []\n",
    "    for item in lst:\n",
    "        if item not in seen:\n",
    "            result.append(item)\n",
    "            seen.add(item)\n",
    "    return result\n",
    "\n",
    "# Example usage:\n",
    "my_list = [1, 2, 2, 3, 4, 4, 5]\n",
    "unique_list = remove_duplicates(my_list)\n",
    "print(unique_list)  # Output: [1, 2, 3, 4, 5]"
   ]
  },
  {
   "cell_type": "code",
   "execution_count": 15,
   "id": "2a9251c7-7a44-4ee3-9a0c-aa535ace7c8b",
   "metadata": {},
   "outputs": [
    {
     "name": "stdout",
     "output_type": "stream",
     "text": [
      "True\n",
      "True\n",
      "False\n"
     ]
    }
   ],
   "source": [
    "# Create code to check if a given list is sorted (either in ascending or descending order):\n",
    "\n",
    "def is_sorted(lst):\n",
    "    return lst == sorted(lst) or lst == sorted(lst, reverse=True)\n",
    "\n",
    "# Example usage:\n",
    "my_list = [1, 2, 3, 4, 5]\n",
    "print(is_sorted(my_list))  # Output: True\n",
    "\n",
    "my_list = [5, 4, 3, 2, 1]\n",
    "print(is_sorted(my_list))  # Output: True\n",
    "\n",
    "my_list = [1, 3, 2, 4, 5]\n",
    "print(is_sorted(my_list))  # Output: False"
   ]
  },
  {
   "cell_type": "code",
   "execution_count": 16,
   "id": "ebe37ba5-8951-46c9-855f-e5d7fb31dca5",
   "metadata": {},
   "outputs": [
    {
     "name": "stdout",
     "output_type": "stream",
     "text": [
      "[1, 2, 3, 4, 5, 6]\n"
     ]
    }
   ],
   "source": [
    "#Write code to merge two sorted lists into a single sorted list:\n",
    "\n",
    "def merge_sorted_lists(lst1, lst2):\n",
    "    merged = []\n",
    "    i, j = 0, 0\n",
    "    while i < len(lst1) and j < len(lst2):\n",
    "        if lst1[i] < lst2[j]:\n",
    "            merged.append(lst1[i])\n",
    "            i += 1\n",
    "        else:\n",
    "            merged.append(lst2[j])\n",
    "            j += 1\n",
    "    merged.extend(lst1[i:])\n",
    "    merged.extend(lst2[j:])\n",
    "    return merged\n",
    "\n",
    "# Example usage:\n",
    "list1 = [1, 3, 5]\n",
    "list2 = [2, 4, 6]\n",
    "merged_list = merge_sorted_lists(list1, list2)\n",
    "print(merged_list)  # Output: [1, 2, 3, 4, 5, 6]"
   ]
  },
  {
   "cell_type": "code",
   "execution_count": 17,
   "id": "bd760534-083d-4a9a-a1e6-4b6dc4b24f75",
   "metadata": {},
   "outputs": [
    {
     "name": "stdout",
     "output_type": "stream",
     "text": [
      "[4, 5]\n"
     ]
    }
   ],
   "source": [
    "# Implement code to find the intersection of two given lists:\n",
    "\n",
    "def intersect_lists(lst1, lst2):\n",
    "    return list(set(lst1) & set(lst2))\n",
    "\n",
    "# Example usage:\n",
    "list1 = [1, 2, 3, 4, 5]\n",
    "list2 = [4, 5, 6, 7, 8]\n",
    "intersection = intersect_lists(list1, list2)\n",
    "print(intersection)  # Output: [4, 5]"
   ]
  },
  {
   "cell_type": "code",
   "execution_count": 18,
   "id": "9a2aab46-680e-4d39-8021-695e49e6edb8",
   "metadata": {},
   "outputs": [
    {
     "name": "stdout",
     "output_type": "stream",
     "text": [
      "[1, 2, 3, 4, 5, 6, 7, 8]\n"
     ]
    }
   ],
   "source": [
    "#Create code to find the union of two lists without duplicates:\n",
    "\n",
    "def union_lists(lst1, lst2):\n",
    "    return list(set(lst1) | set(lst2))\n",
    "\n",
    "# Example usage:\n",
    "list1 = [1, 2, 3, 4, 5]\n",
    "list2 = [4, 5, 6, 7, 8]\n",
    "union = union_lists(list1, list2)\n",
    "print(union)  # Output: [1, 2, 3, 4, 5, 6, 7, 8]"
   ]
  },
  {
   "cell_type": "code",
   "execution_count": 19,
   "id": "a828763b-813a-45bc-9949-16f3378ea9c3",
   "metadata": {},
   "outputs": [
    {
     "name": "stdout",
     "output_type": "stream",
     "text": [
      "[2, 5, 1, 4, 3]\n"
     ]
    }
   ],
   "source": [
    "#Write code to shuffle a given list randomly without using any built-in shuffle function:\n",
    "\n",
    "import random\n",
    "\n",
    "def shuffle_list(lst):\n",
    "    for i in range(len(lst) - 1, 0, -1):\n",
    "        j = random.randint(0, i)\n",
    "        lst[i], lst[j] = lst[j], lst[i]\n",
    "\n",
    "# Example usage:\n",
    "my_list = [1, 2, 3, 4, 5]\n",
    "shuffle_list(my_list)\n",
    "print(my_list)  # Output: A randomly shuffled list, e.g., [3, 1, 5, 2, 4]"
   ]
  },
  {
   "cell_type": "code",
   "execution_count": 20,
   "id": "b570d7a7-3d60-457c-85f9-cff894206d75",
   "metadata": {},
   "outputs": [
    {
     "name": "stdout",
     "output_type": "stream",
     "text": [
      "(3, 4)\n"
     ]
    }
   ],
   "source": [
    "#Write code that takes two tuples as input and returns a new tuple containing elements that are common to both input tuples:\n",
    "\n",
    "def intersect_tuples(tup1, tup2):\n",
    "    return tuple(set(tup1) & set(tup2))\n",
    "\n",
    "# Example usage:\n",
    "tuple1 = (1, 2, 3, 4)\n",
    "tuple2 = (3, 4, 5, 6)\n",
    "common_elements = intersect_tuples(tuple1, tuple2)\n",
    "print(common_elements)  # Output: (3, 4)"
   ]
  },
  {
   "cell_type": "code",
   "execution_count": 21,
   "id": "ac67e516-d10e-42ed-bb01-0c4b6dad6662",
   "metadata": {},
   "outputs": [],
   "source": [
    "#Create code that prompts the user to enter two sets of integers separated by commas and then prints the intersection of these two sets:\n",
    "\n",
    "def prompt_and_intersect():\n",
    "    set1 = set(map(int, input(\"Enter the first set of integers separated by commas: \").split(',')))\n",
    "    set2 = set(map(int, input(\"Enter the second set of integers separated by commas: \").split(',')))\n",
    "    intersection = set1 & set2\n",
    "    print(\"Intersection:\", intersection)\n",
    "\n",
    "# Example usage:\n",
    "# Input:\n",
    "# Enter the first set of integers separated by commas: 1,2,3,4\n",
    "# Enter the second set of integers separated by commas: 3,4,5,6\n",
    "# Output:\n",
    "# Intersection: {3, 4}"
   ]
  },
  {
   "cell_type": "code",
   "execution_count": 22,
   "id": "0f9c5a0c-6f04-46c2-80a9-5c586421a58a",
   "metadata": {},
   "outputs": [
    {
     "name": "stdout",
     "output_type": "stream",
     "text": [
      "(1, 2, 3, 4, 5, 6)\n"
     ]
    }
   ],
   "source": [
    "#Write code to concatenate two tuples. The function should take two tuples as input and return a new tuple containing elements from both input tuples:\n",
    "\n",
    "def concatenate_tuples(tup1, tup2):\n",
    "    return tup1 + tup2\n",
    "\n",
    "# Example usage:\n",
    "tuple1 = (1, 2, 3)\n",
    "tuple2 = (4, 5, 6)\n",
    "concatenated_tuple = concatenate_tuples(tuple1, tuple2)\n",
    "print(concatenated_tuple)  # Output: (1, 2, 3, 4, 5, 6)"
   ]
  },
  {
   "cell_type": "code",
   "execution_count": 23,
   "id": "884cc823-f8a2-4a23-a9c6-125cdbfa13c6",
   "metadata": {},
   "outputs": [],
   "source": [
    "#Code to prompt the user to input two sets of strings and then print the elements that are present in the first set but not in the second set:\n",
    "\n",
    "def difference_of_sets():\n",
    "    set1 = set(input(\"Enter the first set of strings, separated by commas: \").split(','))\n",
    "    set2 = set(input(\"Enter the second set of strings, separated by commas: \").split(','))\n",
    "    difference = set1 - set2\n",
    "    print(\"Elements in the first set but not in the second set:\", difference)\n",
    "\n",
    "# Example usage:\n",
    "# Enter the first set of strings, separated by commas: apple,banana,cherry\n",
    "# Enter the second set of strings, separated by commas: banana,date\n",
    "# Output: Elements in the first set but not in the second set: {'apple', 'cherry'}"
   ]
  },
  {
   "cell_type": "code",
   "execution_count": 24,
   "id": "f2c482e0-0ca5-4f56-b5ed-aa32cab27c1b",
   "metadata": {},
   "outputs": [
    {
     "name": "stdout",
     "output_type": "stream",
     "text": [
      "(20, 30, 40)\n"
     ]
    }
   ],
   "source": [
    "#Create code that takes a tuple and two integers as input. The function should return a new tuple containing elements from the original tuple within the specified range of indices:\n",
    "\n",
    "def slice_tuple(tup, start, end):\n",
    "    return tup[start:end]\n",
    "\n",
    "# Example usage:\n",
    "my_tuple = (10, 20, 30, 40, 50)\n",
    "result = slice_tuple(my_tuple, 1, 4)\n",
    "print(result)  # Output: (20, 30, 40)"
   ]
  },
  {
   "cell_type": "code",
   "execution_count": 25,
   "id": "2007868a-efef-49a4-9b5b-06e53f44a4dc",
   "metadata": {},
   "outputs": [],
   "source": [
    "#Write code that prompts the user to input two sets of characters and then prints the union of these two sets:\n",
    "\n",
    "def union_of_sets():\n",
    "    set1 = set(input(\"Enter the first set of characters, separated by commas: \").split(','))\n",
    "    set2 = set(input(\"Enter the second set of characters, separated by commas: \").split(','))\n",
    "    union = set1 | set2\n",
    "    print(\"Union of the two sets:\", union)\n",
    "\n",
    "# Example usage:\n",
    "# Enter the first set of characters, separated by commas: a,b,c\n",
    "# Enter the second set of characters, separated by commas: b,c,d\n",
    "# Output: Union of the two sets: {'a', 'b', 'c', 'd'}"
   ]
  },
  {
   "cell_type": "code",
   "execution_count": 26,
   "id": "4f16e5a8-34c2-4505-9215-441eaea19c3f",
   "metadata": {},
   "outputs": [
    {
     "name": "stdout",
     "output_type": "stream",
     "text": [
      "(30, 5)\n"
     ]
    }
   ],
   "source": [
    "# Develop code that takes a tuple of integers as input. The function should return the maximum and minimum values from the tuple using tuple unpacking:\n",
    "\n",
    "def max_min_from_tuple(tup):\n",
    "    return (max(tup), min(tup))\n",
    "\n",
    "# Example usage:\n",
    "my_tuple = (10, 20, 5, 30, 15)\n",
    "result = max_min_from_tuple(my_tuple)\n",
    "print(result)  # Output: (30, 5)"
   ]
  },
  {
   "cell_type": "code",
   "execution_count": 27,
   "id": "2216b83f-1f46-444e-a2ea-d2ec63f56ac7",
   "metadata": {},
   "outputs": [
    {
     "name": "stdout",
     "output_type": "stream",
     "text": [
      "Union: {1, 2, 3, 4, 5, 6}\n",
      "Intersection: {3, 4}\n",
      "Difference: {1, 2}\n"
     ]
    }
   ],
   "source": [
    "# Create code that defines two sets of integers. Then print the union, intersection, and difference of these two sets:\n",
    "\n",
    "def set_operations(set1, set2):\n",
    "    union = set1 | set2\n",
    "    intersection = set1 & set2\n",
    "    difference = set1 - set2\n",
    "    print(\"Union:\", union)\n",
    "    print(\"Intersection:\", intersection)\n",
    "    print(\"Difference:\", difference)\n",
    "\n",
    "# Example usage:\n",
    "set1 = {1, 2, 3, 4}\n",
    "set2 = {3, 4, 5, 6}\n",
    "set_operations(set1, set2)\n",
    "# Output:\n",
    "# Union: {1, 2, 3, 4, 5, 6}\n",
    "# Intersection: {3, 4}\n",
    "# Difference: {1, 2}"
   ]
  },
  {
   "cell_type": "code",
   "execution_count": 28,
   "id": "38b0380a-47c4-432c-acfa-ce76f57da3d0",
   "metadata": {},
   "outputs": [
    {
     "name": "stdout",
     "output_type": "stream",
     "text": [
      "3\n"
     ]
    }
   ],
   "source": [
    "# Write code that takes a tuple and an element as input. The function should return the count of occurrences of the given element in the tuple:\n",
    "\n",
    "def count_element_in_tuple(tup, element):\n",
    "    return tup.count(element)\n",
    "\n",
    "# Example usage:\n",
    "my_tuple = (1, 2, 2, 3, 2, 4)\n",
    "count = count_element_in_tuple(my_tuple, 2)\n",
    "print(count)  # Output: 3"
   ]
  },
  {
   "cell_type": "code",
   "execution_count": 29,
   "id": "7d2928e8-de3f-43e4-b563-6ca456ed0f0c",
   "metadata": {},
   "outputs": [],
   "source": [
    "#Develop code that prompts the user to input two sets of strings and then prints the symmetric difference of these two sets:\n",
    "\n",
    "def symmetric_difference_of_sets():\n",
    "    set1 = set(input(\"Enter the first set of strings, separated by commas: \").split(','))\n",
    "    set2 = set(input(\"Enter the second set of strings, separated by commas: \").split(','))\n",
    "    symmetric_diff = set1 ^ set2\n",
    "    print(\"Symmetric difference of the two sets:\", symmetric_diff)\n",
    "\n",
    "# Example usage:\n",
    "# Enter the first set of strings, separated by commas: apple,banana,cherry\n",
    "# Enter the second set of strings, separated by commas: banana,date\n",
    "# Output: Symmetric difference of the two sets: {'cherry', 'apple', 'date'}\n"
   ]
  },
  {
   "cell_type": "code",
   "execution_count": 30,
   "id": "4caab082-203e-4325-a156-e2c0575f6870",
   "metadata": {},
   "outputs": [
    {
     "name": "stdout",
     "output_type": "stream",
     "text": [
      "{'a': 1, 'b': 5, 'c': 4}\n"
     ]
    }
   ],
   "source": [
    "#Write code that takes two dictionaries as input and merges them into a single dictionary. If there are common keys, the values should be added together:\n",
    "\n",
    "def merge_dictionaries(dict1, dict2):\n",
    "    merged = dict1.copy()  # Start with the first dictionary\n",
    "    for key, value in dict2.items():\n",
    "        if key in merged:\n",
    "            merged[key] += value\n",
    "        else:\n",
    "            merged[key] = value\n",
    "    return merged\n",
    "\n",
    "# Example usage:\n",
    "dict1 = {'a': 1, 'b': 2}\n",
    "dict2 = {'b': 3, 'c': 4}\n",
    "merged_dict = merge_dictionaries(dict1, dict2)\n",
    "print(merged_dict)  # Output: {'a': 1, 'b': 5, 'c': 4}"
   ]
  },
  {
   "cell_type": "code",
   "execution_count": 31,
   "id": "5494801f-91a6-47cf-a89a-fe6cc4a2596a",
   "metadata": {},
   "outputs": [
    {
     "name": "stdout",
     "output_type": "stream",
     "text": [
      "1\n",
      "None\n"
     ]
    }
   ],
   "source": [
    "# Write code to access values in a nested dictionary. The function should take the dictionary and a list of keys as input and return the corresponding values. If any of the keys do not exist in the dictionary, the function should return None:\n",
    "\n",
    "def get_nested_value(d, keys):\n",
    "    value = d\n",
    "    for key in keys:\n",
    "        value = value.get(key, None)\n",
    "        if value is None:\n",
    "            return None\n",
    "    return value\n",
    "\n",
    "# Example usage:\n",
    "nested_dict = {'a': {'b': {'c': 1}}}\n",
    "keys = ['a', 'b', 'c']\n",
    "result = get_nested_value(nested_dict, keys)\n",
    "print(result)  # Output: 1\n",
    "\n",
    "# If any key is missing:\n",
    "keys = ['a', 'b', 'd']\n",
    "result = get_nested_value(nested_dict, keys)\n",
    "print(result)  # Output: None"
   ]
  },
  {
   "cell_type": "code",
   "execution_count": 32,
   "id": "52847ebf-057d-496e-bd65-4d826d02a3a9",
   "metadata": {},
   "outputs": [
    {
     "name": "stdout",
     "output_type": "stream",
     "text": [
      "{'b': 1, 'c': 2, 'a': 3}\n"
     ]
    }
   ],
   "source": [
    "#Write code that takes a dictionary as input and returns a sorted version of it based on the values. You can choose whether to sort in ascending or descending order:\n",
    "\n",
    "def sort_dict_by_values(d, descending=False):\n",
    "    return dict(sorted(d.items(), key=lambda item: item[1], reverse=descending))\n",
    "\n",
    "# Example usage:\n",
    "my_dict = {'a': 3, 'b': 1, 'c': 2}\n",
    "sorted_dict = sort_dict_by_values(my_dict)\n",
    "print(sorted_dict)  # Output: {'b': 1, 'c': 2, 'a': 3}"
   ]
  },
  {
   "cell_type": "code",
   "execution_count": 33,
   "id": "78609f14-d677-492e-be1f-fdb91cc5cc2d",
   "metadata": {},
   "outputs": [
    {
     "name": "stdout",
     "output_type": "stream",
     "text": [
      "{1: ['a', 'c'], 2: ['b']}\n"
     ]
    }
   ],
   "source": [
    "# Write code that inverts a dictionary by swapping keys and values. Ensure that the inverted dictionary handles cases where multiple keys have the same value by storing the keys as a list in the inverted dictionary:\n",
    "\n",
    "def invert_dict(d):\n",
    "    inverted = {}\n",
    "    for key, value in d.items():\n",
    "        if value in inverted:\n",
    "            inverted[value].append(key)\n",
    "        else:\n",
    "            inverted[value] = [key]\n",
    "    return inverted\n",
    "\n",
    "# Example usage:\n",
    "my_dict = {'a': 1, 'b': 2, 'c': 1}\n",
    "inverted_dict = invert_dict(my_dict)\n",
    "print(inverted_dict)  # Output: {1: ['a', 'c'], 2: ['b']}"
   ]
  },
  {
   "cell_type": "code",
   "execution_count": null,
   "id": "5accdc7d-8b90-4f83-b9df-3450177c4933",
   "metadata": {},
   "outputs": [],
   "source": []
  },
  {
   "cell_type": "code",
   "execution_count": null,
   "id": "cb8dcdf6-b990-4ca0-a40d-9565a94101d9",
   "metadata": {},
   "outputs": [],
   "source": []
  }
 ],
 "metadata": {
  "kernelspec": {
   "display_name": "Python 3 (ipykernel)",
   "language": "python",
   "name": "python3"
  },
  "language_info": {
   "codemirror_mode": {
    "name": "ipython",
    "version": 3
   },
   "file_extension": ".py",
   "mimetype": "text/x-python",
   "name": "python",
   "nbconvert_exporter": "python",
   "pygments_lexer": "ipython3",
   "version": "3.10.8"
  }
 },
 "nbformat": 4,
 "nbformat_minor": 5
}
